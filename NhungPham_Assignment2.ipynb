{
 "cells": [
  {
   "cell_type": "markdown",
   "metadata": {
    "collapsed": true
   },
   "source": [
    "# Assignment 2: Analysis of Facebook Engagement\n",
    "\n",
    "## Name: Trang-Nhung Pham         \n",
    "\n",
    "## Student ID: 11896558\n",
    "\n",
    "\n",
    "\n",
    "\n",
    "# I. Introduction\n",
    "\n",
    "For conservationist NGOs, communication is close to a work of persuasion (Núñez & Moreno, 2016) as it needs to both increase awareness of people and encourage behavioural change. However, closing the gap between communication and engagement is a challenging task as it is often harder to encourage the public to participate in conservation activities than to make them aware of conservation work being done. This challenge is more apparent in the context of social media communication as messages that are rapidly and dynamically spread do not necessarily entail involvement and engagement (Dosemagen, 2016). Therefore, making social media users ultimately engaged with conservationist content is an essential challenge that conservationist groups need to overcome.\n",
    "\n",
    "To find a solution for the problem, it is of great significance to learn how social media communication generate engagement. In particular, it is to know what type of content can encourage engagement from audience, especially active and pro-active engagement.\n",
    "\n",
    "This analysis tries to answer the research question: **\"Which content generates more active engagement on Facebook page of conservationist NGOs?\"**\n",
    "\n",
    "Using data from the Facebook page of World Wildlife Fund, the analysis will answer the research question through 5 hypotheses: \n",
    "\n",
    "Firstly, the research would test if the common claim that photo got the highest engagement rate while status receives the lowest engagement rate (Schwartz, 2017) applies to the case. Hypothesis 1 therefore is:\n",
    "\n",
    "**H1: Type of post affects engagement quantitatively**\n",
    "\n",
    "Content of posts plays a role in engagement of audience. It is argued that the public is more likely to make comments on two-way asymmetry communication as this appears as an effort of the organizations to build relationships with them (Cho, Schweickart, & Haase, 2014, pp. 566-567). Hence, hypotheses 2, 3 and 4 are: \n",
    "\n",
    "**H2: The inclusion of question helps increase engagement**\n",
    "\n",
    "**H3: Call-in-action content helps increase engagement**\n",
    "\n",
    "**H4: Content's sentiment can affect engagement both quantitatively and qualitatively**\n",
    "\n",
    "Lastly, as argued a rule of thumb for social media content, shorter content is more likely to  attract engagement (Jackson, 2017), hypothesis 5 is decided as:\n",
    "\n",
    "**H5: The length of post affects engagement quantitatively**\n"
   ]
  },
  {
   "cell_type": "markdown",
   "metadata": {},
   "source": [
    "# II. Data Analysis\n",
    "\n",
    "## 1. Gathering data"
   ]
  },
  {
   "cell_type": "code",
   "execution_count": 1,
   "metadata": {
    "collapsed": true
   },
   "outputs": [],
   "source": [
    "import pandas as pd"
   ]
  },
  {
   "cell_type": "code",
   "execution_count": 2,
   "metadata": {
    "collapsed": true
   },
   "outputs": [],
   "source": [
    "import seaborn as sns\n",
    "import matplotlib.pyplot as plt\n",
    "import matplotlib.dates as dates\n",
    "import matplotlib as mpl\n",
    "import numpy as np\n",
    "from scipy import stats, integrate\n",
    "%matplotlib inline"
   ]
  },
  {
   "cell_type": "markdown",
   "metadata": {},
   "source": [
    "**About the data:**\n",
    "\n",
    "The data used in this analysis is Facebook data of World Wildlife Fund's page gathered with Netvizz in March 20, 2018 including stats of the latest 300 posts. Data obtained is only related to posts published by the page itself, not by audience. According to customs in social science research, each group of data should have around 50 to 80 events (Reinard, 2006, p. 40), therefore this sample is effective enough for studying post performance. Besides, regarding the average posting behaviour of Facebook pages at 1.40 posts per day (Schwartz, 2017), the number of posts chosen probably covers Facebook activity of the page in six months, a long enough period of time for the study. \n",
    "\n",
    "The data includes content and various information of both posts and comments such as the numbers of likes, shares, comments, etc. From this dataset, posts' and comments' text were extracted for sentiment analysis and merged again into the data"
   ]
  },
  {
   "cell_type": "code",
   "execution_count": 3,
   "metadata": {
    "collapsed": true
   },
   "outputs": [],
   "source": [
    "posts=pd.read_table('page_15687409793_2018_03_20_09_15_50_fullstats.tab')\n",
    "comments=pd.read_table('page_15687409793_2018_03_20_09_15_50_comments.tab')"
   ]
  },
  {
   "cell_type": "code",
   "execution_count": 4,
   "metadata": {
    "collapsed": true
   },
   "outputs": [],
   "source": [
    "posts_senti=posts[['post_id','post_message']]\n",
    "posts_senti.columns=['id','text']\n",
    "comments_senti=comments[['comment_id','comment_message']]\n",
    "comments_senti.columns=['id','text']"
   ]
  },
  {
   "cell_type": "code",
   "execution_count": 5,
   "metadata": {
    "collapsed": true
   },
   "outputs": [],
   "source": [
    "posts_senti.to_pickle('NhungPham_Assignment2_EN.pkl')\n",
    "comments_senti.to_pickle('NhungPham_Assignment2_EN_cm.pkl')"
   ]
  },
  {
   "cell_type": "code",
   "execution_count": 6,
   "metadata": {
    "collapsed": true
   },
   "outputs": [],
   "source": [
    "post_sentiment=pd.read_pickle('Pham trang nhung - NhungPham_Assignment2_EN_completed.pkl')\n",
    "comment_sentiment=pd.read_pickle('Pham trang nhung - NhungPham_Assignment2_cm_EN_completed.pkl')"
   ]
  },
  {
   "cell_type": "code",
   "execution_count": 7,
   "metadata": {},
   "outputs": [
    {
     "data": {
      "text/plain": [
       "Index(['id', 'text', 'negative', 'positive', 'neutral'], dtype='object')"
      ]
     },
     "execution_count": 7,
     "metadata": {},
     "output_type": "execute_result"
    }
   ],
   "source": [
    "post_sentiment.columns"
   ]
  },
  {
   "cell_type": "code",
   "execution_count": 8,
   "metadata": {
    "collapsed": true
   },
   "outputs": [],
   "source": [
    "post_sentiment = post_sentiment.rename(columns={'id': 'post_id', 'text': 'post_message'})\n",
    "comment_sentiment = comment_sentiment.rename(columns={'id': 'comment_id', 'text': 'comment_message'})"
   ]
  },
  {
   "cell_type": "code",
   "execution_count": 9,
   "metadata": {
    "collapsed": true
   },
   "outputs": [],
   "source": [
    "post_data=pd.merge(posts,post_sentiment,on=['post_id','post_message'])\n",
    "comment_data=pd.merge(comments,comment_sentiment,on=['comment_id','comment_message'])"
   ]
  },
  {
   "cell_type": "code",
   "execution_count": 10,
   "metadata": {},
   "outputs": [
    {
     "data": {
      "text/plain": [
       "Index(['type', 'by', 'post_id', 'post_link', 'post_message', 'picture',\n",
       "       'full_picture', 'link', 'link_domain', 'post_published',\n",
       "       'post_published_unix', 'post_published_sql', 'likes_count_fb',\n",
       "       'comments_count_fb', 'reactions_count_fb', 'shares_count_fb',\n",
       "       'engagement_fb', 'comments_retrieved', 'comments_base',\n",
       "       'comments_replies', 'comment_likes_count', 'rea_LOVE', 'rea_WOW',\n",
       "       'rea_HAHA', 'rea_SAD', 'rea_ANGRY', 'rea_THANKFUL', 'negative',\n",
       "       'positive', 'neutral'],\n",
       "      dtype='object')"
      ]
     },
     "execution_count": 10,
     "metadata": {},
     "output_type": "execute_result"
    }
   ],
   "source": [
    "post_data.columns"
   ]
  },
  {
   "cell_type": "code",
   "execution_count": 11,
   "metadata": {},
   "outputs": [
    {
     "data": {
      "text/plain": [
       "Index(['position', 'post_id', 'post_by', 'post_text', 'post_published',\n",
       "       'comment_id', 'comment_by', 'is_reply', 'comment_message',\n",
       "       'comment_published', 'comment_like_count', 'attachment_type',\n",
       "       'attachment_url', 'negative', 'positive', 'neutral'],\n",
       "      dtype='object')"
      ]
     },
     "execution_count": 11,
     "metadata": {},
     "output_type": "execute_result"
    }
   ],
   "source": [
    "comment_data.columns"
   ]
  },
  {
   "cell_type": "markdown",
   "metadata": {
    "collapsed": true
   },
   "source": [
    "# 2. Inspection and cleaning up of the data\n",
    "\n",
    "At first data types and general description of the merged data is inspected."
   ]
  },
  {
   "cell_type": "code",
   "execution_count": 12,
   "metadata": {},
   "outputs": [
    {
     "data": {
      "text/plain": [
       "type                   object\n",
       "by                     object\n",
       "post_id                object\n",
       "post_link              object\n",
       "post_message           object\n",
       "picture                object\n",
       "full_picture           object\n",
       "link                   object\n",
       "link_domain            object\n",
       "post_published         object\n",
       "post_published_unix     int64\n",
       "post_published_sql     object\n",
       "likes_count_fb          int64\n",
       "comments_count_fb       int64\n",
       "reactions_count_fb      int64\n",
       "shares_count_fb         int64\n",
       "engagement_fb           int64\n",
       "comments_retrieved      int64\n",
       "comments_base           int64\n",
       "comments_replies        int64\n",
       "comment_likes_count     int64\n",
       "rea_LOVE                int64\n",
       "rea_WOW                 int64\n",
       "rea_HAHA                int64\n",
       "rea_SAD                 int64\n",
       "rea_ANGRY               int64\n",
       "rea_THANKFUL            int64\n",
       "negative               object\n",
       "positive               object\n",
       "neutral                object\n",
       "dtype: object"
      ]
     },
     "execution_count": 12,
     "metadata": {},
     "output_type": "execute_result"
    }
   ],
   "source": [
    "post_data.dtypes"
   ]
  },
  {
   "cell_type": "code",
   "execution_count": 13,
   "metadata": {},
   "outputs": [
    {
     "data": {
      "text/html": [
       "<div>\n",
       "<style>\n",
       "    .dataframe thead tr:only-child th {\n",
       "        text-align: right;\n",
       "    }\n",
       "\n",
       "    .dataframe thead th {\n",
       "        text-align: left;\n",
       "    }\n",
       "\n",
       "    .dataframe tbody tr th {\n",
       "        vertical-align: top;\n",
       "    }\n",
       "</style>\n",
       "<table border=\"1\" class=\"dataframe\">\n",
       "  <thead>\n",
       "    <tr style=\"text-align: right;\">\n",
       "      <th></th>\n",
       "      <th>count</th>\n",
       "      <th>mean</th>\n",
       "      <th>std</th>\n",
       "      <th>min</th>\n",
       "      <th>25%</th>\n",
       "      <th>50%</th>\n",
       "      <th>75%</th>\n",
       "      <th>max</th>\n",
       "    </tr>\n",
       "  </thead>\n",
       "  <tbody>\n",
       "    <tr>\n",
       "      <th>post_published_unix</th>\n",
       "      <td>300.0</td>\n",
       "      <td>1.502508e+09</td>\n",
       "      <td>1.061177e+07</td>\n",
       "      <td>1.485472e+09</td>\n",
       "      <td>1.492824e+09</td>\n",
       "      <td>1.502006e+09</td>\n",
       "      <td>1.511606e+09</td>\n",
       "      <td>1.521483e+09</td>\n",
       "    </tr>\n",
       "    <tr>\n",
       "      <th>likes_count_fb</th>\n",
       "      <td>300.0</td>\n",
       "      <td>1.170293e+03</td>\n",
       "      <td>1.253386e+03</td>\n",
       "      <td>6.400000e+01</td>\n",
       "      <td>4.130000e+02</td>\n",
       "      <td>7.615000e+02</td>\n",
       "      <td>1.429250e+03</td>\n",
       "      <td>1.025700e+04</td>\n",
       "    </tr>\n",
       "    <tr>\n",
       "      <th>comments_count_fb</th>\n",
       "      <td>300.0</td>\n",
       "      <td>4.274000e+01</td>\n",
       "      <td>5.145962e+01</td>\n",
       "      <td>1.000000e+00</td>\n",
       "      <td>1.300000e+01</td>\n",
       "      <td>2.300000e+01</td>\n",
       "      <td>4.800000e+01</td>\n",
       "      <td>3.090000e+02</td>\n",
       "    </tr>\n",
       "    <tr>\n",
       "      <th>reactions_count_fb</th>\n",
       "      <td>300.0</td>\n",
       "      <td>1.516410e+03</td>\n",
       "      <td>1.624897e+03</td>\n",
       "      <td>7.100000e+01</td>\n",
       "      <td>5.332500e+02</td>\n",
       "      <td>9.650000e+02</td>\n",
       "      <td>1.919500e+03</td>\n",
       "      <td>1.231500e+04</td>\n",
       "    </tr>\n",
       "    <tr>\n",
       "      <th>shares_count_fb</th>\n",
       "      <td>300.0</td>\n",
       "      <td>2.910033e+02</td>\n",
       "      <td>5.051211e+02</td>\n",
       "      <td>0.000000e+00</td>\n",
       "      <td>7.300000e+01</td>\n",
       "      <td>1.380000e+02</td>\n",
       "      <td>2.867500e+02</td>\n",
       "      <td>5.215000e+03</td>\n",
       "    </tr>\n",
       "    <tr>\n",
       "      <th>engagement_fb</th>\n",
       "      <td>300.0</td>\n",
       "      <td>1.850153e+03</td>\n",
       "      <td>2.045922e+03</td>\n",
       "      <td>8.700000e+01</td>\n",
       "      <td>6.492500e+02</td>\n",
       "      <td>1.178500e+03</td>\n",
       "      <td>2.323000e+03</td>\n",
       "      <td>1.465900e+04</td>\n",
       "    </tr>\n",
       "    <tr>\n",
       "      <th>comments_retrieved</th>\n",
       "      <td>300.0</td>\n",
       "      <td>3.847333e+01</td>\n",
       "      <td>4.757950e+01</td>\n",
       "      <td>1.000000e+00</td>\n",
       "      <td>1.100000e+01</td>\n",
       "      <td>2.150000e+01</td>\n",
       "      <td>4.325000e+01</td>\n",
       "      <td>3.020000e+02</td>\n",
       "    </tr>\n",
       "    <tr>\n",
       "      <th>comments_base</th>\n",
       "      <td>300.0</td>\n",
       "      <td>2.897667e+01</td>\n",
       "      <td>3.281054e+01</td>\n",
       "      <td>1.000000e+00</td>\n",
       "      <td>9.750000e+00</td>\n",
       "      <td>1.800000e+01</td>\n",
       "      <td>3.325000e+01</td>\n",
       "      <td>2.470000e+02</td>\n",
       "    </tr>\n",
       "    <tr>\n",
       "      <th>comments_replies</th>\n",
       "      <td>300.0</td>\n",
       "      <td>9.496667e+00</td>\n",
       "      <td>1.693969e+01</td>\n",
       "      <td>0.000000e+00</td>\n",
       "      <td>1.000000e+00</td>\n",
       "      <td>3.000000e+00</td>\n",
       "      <td>9.000000e+00</td>\n",
       "      <td>1.000000e+02</td>\n",
       "    </tr>\n",
       "    <tr>\n",
       "      <th>comment_likes_count</th>\n",
       "      <td>300.0</td>\n",
       "      <td>3.795000e+01</td>\n",
       "      <td>7.509424e+01</td>\n",
       "      <td>0.000000e+00</td>\n",
       "      <td>6.000000e+00</td>\n",
       "      <td>1.500000e+01</td>\n",
       "      <td>3.025000e+01</td>\n",
       "      <td>6.510000e+02</td>\n",
       "    </tr>\n",
       "    <tr>\n",
       "      <th>rea_LOVE</th>\n",
       "      <td>300.0</td>\n",
       "      <td>1.643133e+02</td>\n",
       "      <td>2.707959e+02</td>\n",
       "      <td>1.000000e+00</td>\n",
       "      <td>2.500000e+01</td>\n",
       "      <td>8.300000e+01</td>\n",
       "      <td>1.832500e+02</td>\n",
       "      <td>2.920000e+03</td>\n",
       "    </tr>\n",
       "    <tr>\n",
       "      <th>rea_WOW</th>\n",
       "      <td>300.0</td>\n",
       "      <td>2.440000e+01</td>\n",
       "      <td>3.680601e+01</td>\n",
       "      <td>0.000000e+00</td>\n",
       "      <td>4.000000e+00</td>\n",
       "      <td>1.000000e+01</td>\n",
       "      <td>3.100000e+01</td>\n",
       "      <td>2.550000e+02</td>\n",
       "    </tr>\n",
       "    <tr>\n",
       "      <th>rea_HAHA</th>\n",
       "      <td>300.0</td>\n",
       "      <td>1.343333e+00</td>\n",
       "      <td>2.427295e+00</td>\n",
       "      <td>0.000000e+00</td>\n",
       "      <td>0.000000e+00</td>\n",
       "      <td>1.000000e+00</td>\n",
       "      <td>2.000000e+00</td>\n",
       "      <td>2.200000e+01</td>\n",
       "    </tr>\n",
       "    <tr>\n",
       "      <th>rea_SAD</th>\n",
       "      <td>300.0</td>\n",
       "      <td>1.064567e+02</td>\n",
       "      <td>3.006528e+02</td>\n",
       "      <td>0.000000e+00</td>\n",
       "      <td>1.000000e+00</td>\n",
       "      <td>4.000000e+00</td>\n",
       "      <td>7.725000e+01</td>\n",
       "      <td>2.765000e+03</td>\n",
       "    </tr>\n",
       "    <tr>\n",
       "      <th>rea_ANGRY</th>\n",
       "      <td>300.0</td>\n",
       "      <td>4.935667e+01</td>\n",
       "      <td>1.931679e+02</td>\n",
       "      <td>0.000000e+00</td>\n",
       "      <td>0.000000e+00</td>\n",
       "      <td>1.000000e+00</td>\n",
       "      <td>6.250000e+00</td>\n",
       "      <td>2.039000e+03</td>\n",
       "    </tr>\n",
       "    <tr>\n",
       "      <th>rea_THANKFUL</th>\n",
       "      <td>300.0</td>\n",
       "      <td>1.400000e-01</td>\n",
       "      <td>1.664221e+00</td>\n",
       "      <td>0.000000e+00</td>\n",
       "      <td>0.000000e+00</td>\n",
       "      <td>0.000000e+00</td>\n",
       "      <td>0.000000e+00</td>\n",
       "      <td>2.800000e+01</td>\n",
       "    </tr>\n",
       "  </tbody>\n",
       "</table>\n",
       "</div>"
      ],
      "text/plain": [
       "                     count          mean           std           min  \\\n",
       "post_published_unix  300.0  1.502508e+09  1.061177e+07  1.485472e+09   \n",
       "likes_count_fb       300.0  1.170293e+03  1.253386e+03  6.400000e+01   \n",
       "comments_count_fb    300.0  4.274000e+01  5.145962e+01  1.000000e+00   \n",
       "reactions_count_fb   300.0  1.516410e+03  1.624897e+03  7.100000e+01   \n",
       "shares_count_fb      300.0  2.910033e+02  5.051211e+02  0.000000e+00   \n",
       "engagement_fb        300.0  1.850153e+03  2.045922e+03  8.700000e+01   \n",
       "comments_retrieved   300.0  3.847333e+01  4.757950e+01  1.000000e+00   \n",
       "comments_base        300.0  2.897667e+01  3.281054e+01  1.000000e+00   \n",
       "comments_replies     300.0  9.496667e+00  1.693969e+01  0.000000e+00   \n",
       "comment_likes_count  300.0  3.795000e+01  7.509424e+01  0.000000e+00   \n",
       "rea_LOVE             300.0  1.643133e+02  2.707959e+02  1.000000e+00   \n",
       "rea_WOW              300.0  2.440000e+01  3.680601e+01  0.000000e+00   \n",
       "rea_HAHA             300.0  1.343333e+00  2.427295e+00  0.000000e+00   \n",
       "rea_SAD              300.0  1.064567e+02  3.006528e+02  0.000000e+00   \n",
       "rea_ANGRY            300.0  4.935667e+01  1.931679e+02  0.000000e+00   \n",
       "rea_THANKFUL         300.0  1.400000e-01  1.664221e+00  0.000000e+00   \n",
       "\n",
       "                              25%           50%           75%           max  \n",
       "post_published_unix  1.492824e+09  1.502006e+09  1.511606e+09  1.521483e+09  \n",
       "likes_count_fb       4.130000e+02  7.615000e+02  1.429250e+03  1.025700e+04  \n",
       "comments_count_fb    1.300000e+01  2.300000e+01  4.800000e+01  3.090000e+02  \n",
       "reactions_count_fb   5.332500e+02  9.650000e+02  1.919500e+03  1.231500e+04  \n",
       "shares_count_fb      7.300000e+01  1.380000e+02  2.867500e+02  5.215000e+03  \n",
       "engagement_fb        6.492500e+02  1.178500e+03  2.323000e+03  1.465900e+04  \n",
       "comments_retrieved   1.100000e+01  2.150000e+01  4.325000e+01  3.020000e+02  \n",
       "comments_base        9.750000e+00  1.800000e+01  3.325000e+01  2.470000e+02  \n",
       "comments_replies     1.000000e+00  3.000000e+00  9.000000e+00  1.000000e+02  \n",
       "comment_likes_count  6.000000e+00  1.500000e+01  3.025000e+01  6.510000e+02  \n",
       "rea_LOVE             2.500000e+01  8.300000e+01  1.832500e+02  2.920000e+03  \n",
       "rea_WOW              4.000000e+00  1.000000e+01  3.100000e+01  2.550000e+02  \n",
       "rea_HAHA             0.000000e+00  1.000000e+00  2.000000e+00  2.200000e+01  \n",
       "rea_SAD              1.000000e+00  4.000000e+00  7.725000e+01  2.765000e+03  \n",
       "rea_ANGRY            0.000000e+00  1.000000e+00  6.250000e+00  2.039000e+03  \n",
       "rea_THANKFUL         0.000000e+00  0.000000e+00  0.000000e+00  2.800000e+01  "
      ]
     },
     "execution_count": 13,
     "metadata": {},
     "output_type": "execute_result"
    }
   ],
   "source": [
    "post_data.describe().transpose()"
   ]
  },
  {
   "cell_type": "markdown",
   "metadata": {},
   "source": [
    "**The centre dependent variable in this analysis is engagement. Engagement is counted in two ways:**\n",
    "\n",
    "Quantitative variables including: numbers of likes (likes_count_fb), shares (shares_count_fb), reactions (reactions_count_fb), comments (comments_count_fb), and engagement (engagement_fb). These variables are provided in the data set.\n",
    "\n",
    "Sentiment variables including: reaction sentiment and comment sentiment.  These variables need to be formed."
   ]
  },
  {
   "cell_type": "markdown",
   "metadata": {},
   "source": [
    "- To form a dependent variable of reaction sentiment, I calculated number of positive reactions (sum of love, wow, haha, and thankful reactions) and negative reactions (sum of sad and angry reactions) as well as a general count for sentiment (substracting the numbers of positive to negative reactions)."
   ]
  },
  {
   "cell_type": "code",
   "execution_count": 14,
   "metadata": {
    "collapsed": true
   },
   "outputs": [],
   "source": [
    "post_data['positive_rea']=post_data['rea_LOVE']+post_data['rea_WOW']+post_data['rea_HAHA']+post_data['rea_THANKFUL']\n",
    "post_data['negative_rea']=post_data['rea_SAD']+post_data['rea_ANGRY']\n",
    "post_data['rea_senti']=post_data['positive_rea']-post_data['negative_rea']"
   ]
  },
  {
   "cell_type": "code",
   "execution_count": 15,
   "metadata": {},
   "outputs": [
    {
     "data": {
      "text/html": [
       "<div>\n",
       "<style>\n",
       "    .dataframe thead tr:only-child th {\n",
       "        text-align: right;\n",
       "    }\n",
       "\n",
       "    .dataframe thead th {\n",
       "        text-align: left;\n",
       "    }\n",
       "\n",
       "    .dataframe tbody tr th {\n",
       "        vertical-align: top;\n",
       "    }\n",
       "</style>\n",
       "<table border=\"1\" class=\"dataframe\">\n",
       "  <thead>\n",
       "    <tr style=\"text-align: right;\">\n",
       "      <th></th>\n",
       "      <th>positive_rea</th>\n",
       "      <th>negative_rea</th>\n",
       "      <th>rea_senti</th>\n",
       "    </tr>\n",
       "  </thead>\n",
       "  <tbody>\n",
       "    <tr>\n",
       "      <th>count</th>\n",
       "      <td>300.000000</td>\n",
       "      <td>300.000000</td>\n",
       "      <td>300.000000</td>\n",
       "    </tr>\n",
       "    <tr>\n",
       "      <th>mean</th>\n",
       "      <td>190.196667</td>\n",
       "      <td>155.813333</td>\n",
       "      <td>34.383333</td>\n",
       "    </tr>\n",
       "    <tr>\n",
       "      <th>std</th>\n",
       "      <td>291.649555</td>\n",
       "      <td>437.849410</td>\n",
       "      <td>532.995607</td>\n",
       "    </tr>\n",
       "    <tr>\n",
       "      <th>min</th>\n",
       "      <td>5.000000</td>\n",
       "      <td>0.000000</td>\n",
       "      <td>-3357.000000</td>\n",
       "    </tr>\n",
       "    <tr>\n",
       "      <th>25%</th>\n",
       "      <td>37.750000</td>\n",
       "      <td>1.000000</td>\n",
       "      <td>-13.250000</td>\n",
       "    </tr>\n",
       "    <tr>\n",
       "      <th>50%</th>\n",
       "      <td>95.500000</td>\n",
       "      <td>4.000000</td>\n",
       "      <td>63.500000</td>\n",
       "    </tr>\n",
       "    <tr>\n",
       "      <th>75%</th>\n",
       "      <td>217.000000</td>\n",
       "      <td>95.000000</td>\n",
       "      <td>182.250000</td>\n",
       "    </tr>\n",
       "    <tr>\n",
       "      <th>max</th>\n",
       "      <td>3036.000000</td>\n",
       "      <td>3440.000000</td>\n",
       "      <td>3012.000000</td>\n",
       "    </tr>\n",
       "  </tbody>\n",
       "</table>\n",
       "</div>"
      ],
      "text/plain": [
       "       positive_rea  negative_rea    rea_senti\n",
       "count    300.000000    300.000000   300.000000\n",
       "mean     190.196667    155.813333    34.383333\n",
       "std      291.649555    437.849410   532.995607\n",
       "min        5.000000      0.000000 -3357.000000\n",
       "25%       37.750000      1.000000   -13.250000\n",
       "50%       95.500000      4.000000    63.500000\n",
       "75%      217.000000     95.000000   182.250000\n",
       "max     3036.000000   3440.000000  3012.000000"
      ]
     },
     "execution_count": 15,
     "metadata": {},
     "output_type": "execute_result"
    }
   ],
   "source": [
    "post_data[['positive_rea','negative_rea','rea_senti']].describe()"
   ]
  },
  {
   "cell_type": "markdown",
   "metadata": {},
   "source": [
    "I also formed a categorical variable of reaction sentiment based on the general sentiment variable that contains 3 types: positive, negative and neutral"
   ]
  },
  {
   "cell_type": "code",
   "execution_count": 16,
   "metadata": {
    "collapsed": true
   },
   "outputs": [],
   "source": [
    "def sentiment_reaction(row):\n",
    "    row['reaction sentiment'] = 'reaction sentiment'\n",
    "    if (row['rea_senti'] == 0):\n",
    "        row['reaction sentiment'] = 'Neutral'\n",
    "    if (row['rea_senti'] > 0):\n",
    "        row['reaction sentiment'] = 'Positive'\n",
    "    if (row['rea_senti'] < 0):\n",
    "        row['reaction sentiment'] = 'Negative'\n",
    "    return row"
   ]
  },
  {
   "cell_type": "code",
   "execution_count": 17,
   "metadata": {
    "collapsed": true
   },
   "outputs": [],
   "source": [
    "post_data=post_data.apply(sentiment_reaction,axis=1)"
   ]
  },
  {
   "cell_type": "code",
   "execution_count": 18,
   "metadata": {},
   "outputs": [
    {
     "data": {
      "text/plain": [
       "Positive    220\n",
       "Negative     80\n",
       "Name: reaction sentiment, dtype: int64"
      ]
     },
     "execution_count": 18,
     "metadata": {},
     "output_type": "execute_result"
    }
   ],
   "source": [
    "post_data['reaction sentiment'].value_counts()"
   ]
  },
  {
   "cell_type": "markdown",
   "metadata": {},
   "source": [
    "As shown in the above test, there is no post that received equally distributed reactions, resulting in no neutral-reacted post. The number of posts having more positive reactions is bigger than the number of posts having more negative reactions."
   ]
  },
  {
   "cell_type": "markdown",
   "metadata": {},
   "source": [
    "- To calculate comment sentiment, I got the sum of values of three comment sentiment columns: negative, positive and neutral. "
   ]
  },
  {
   "cell_type": "code",
   "execution_count": 19,
   "metadata": {
    "collapsed": true
   },
   "outputs": [],
   "source": [
    "comment_data['negative']=comment_data['negative'].apply(pd.to_numeric)\n",
    "comment_data['positive']=comment_data['positive'].apply(pd.to_numeric)\n",
    "comment_data['neutral']=comment_data['neutral'].apply(pd.to_numeric)\n",
    "comment_data['sentiment']=comment_data['negative']+comment_data['positive']+comment_data['neutral']"
   ]
  },
  {
   "cell_type": "code",
   "execution_count": 20,
   "metadata": {},
   "outputs": [
    {
     "data": {
      "text/plain": [
       " 0    4770\n",
       " 2    2325\n",
       " 3    1159\n",
       "-2    1069\n",
       "-3     650\n",
       "-1     559\n",
       " 4     512\n",
       "-4     369\n",
       "-5      79\n",
       " 5      50\n",
       "Name: sentiment, dtype: int64"
      ]
     },
     "execution_count": 20,
     "metadata": {},
     "output_type": "execute_result"
    }
   ],
   "source": [
    "comment_data['sentiment'].value_counts()"
   ]
  },
  {
   "cell_type": "markdown",
   "metadata": {
    "collapsed": true
   },
   "source": [
    "This information was then pushed to the post level by calculating the mean of comment sentiment for each post. After that I created another categorical variable for general sentiment of comment based on the mean and merge the data with the post data set."
   ]
  },
  {
   "cell_type": "code",
   "execution_count": 21,
   "metadata": {
    "collapsed": true
   },
   "outputs": [],
   "source": [
    "senti = pd.DataFrame(comment_data.groupby('post_id')[['sentiment']].mean())"
   ]
  },
  {
   "cell_type": "code",
   "execution_count": 22,
   "metadata": {
    "collapsed": true
   },
   "outputs": [],
   "source": [
    "senti = senti.reset_index()"
   ]
  },
  {
   "cell_type": "code",
   "execution_count": 23,
   "metadata": {},
   "outputs": [
    {
     "data": {
      "text/html": [
       "<div>\n",
       "<style>\n",
       "    .dataframe thead tr:only-child th {\n",
       "        text-align: right;\n",
       "    }\n",
       "\n",
       "    .dataframe thead th {\n",
       "        text-align: left;\n",
       "    }\n",
       "\n",
       "    .dataframe tbody tr th {\n",
       "        vertical-align: top;\n",
       "    }\n",
       "</style>\n",
       "<table border=\"1\" class=\"dataframe\">\n",
       "  <thead>\n",
       "    <tr style=\"text-align: right;\">\n",
       "      <th></th>\n",
       "      <th>post_id</th>\n",
       "      <th>sentiment</th>\n",
       "    </tr>\n",
       "  </thead>\n",
       "  <tbody>\n",
       "    <tr>\n",
       "      <th>0</th>\n",
       "      <td>15687409793_10154518523199794</td>\n",
       "      <td>0.565217</td>\n",
       "    </tr>\n",
       "    <tr>\n",
       "      <th>1</th>\n",
       "      <td>15687409793_10154520190999794</td>\n",
       "      <td>1.536913</td>\n",
       "    </tr>\n",
       "    <tr>\n",
       "      <th>2</th>\n",
       "      <td>15687409793_10154528635199794</td>\n",
       "      <td>0.318182</td>\n",
       "    </tr>\n",
       "    <tr>\n",
       "      <th>3</th>\n",
       "      <td>15687409793_10154533681774794</td>\n",
       "      <td>0.466667</td>\n",
       "    </tr>\n",
       "    <tr>\n",
       "      <th>4</th>\n",
       "      <td>15687409793_10154537167854794</td>\n",
       "      <td>0.444444</td>\n",
       "    </tr>\n",
       "  </tbody>\n",
       "</table>\n",
       "</div>"
      ],
      "text/plain": [
       "                         post_id  sentiment\n",
       "0  15687409793_10154518523199794   0.565217\n",
       "1  15687409793_10154520190999794   1.536913\n",
       "2  15687409793_10154528635199794   0.318182\n",
       "3  15687409793_10154533681774794   0.466667\n",
       "4  15687409793_10154537167854794   0.444444"
      ]
     },
     "execution_count": 23,
     "metadata": {},
     "output_type": "execute_result"
    }
   ],
   "source": [
    "senti.head()"
   ]
  },
  {
   "cell_type": "code",
   "execution_count": 24,
   "metadata": {
    "collapsed": true
   },
   "outputs": [],
   "source": [
    "def comment_senti_type(row):\n",
    "    row['comment_gen_senti'] = 'comment_gen_senti'\n",
    "    if (row['sentiment'] == 0):\n",
    "        row['comment_gen_senti'] = 'Neutral'\n",
    "    if (row['sentiment'] > 0):\n",
    "        row['comment_gen_senti'] = 'Positive'\n",
    "    if (row['sentiment'] < 0):\n",
    "        row['comment_gen_senti'] = 'Negative'\n",
    "    return row"
   ]
  },
  {
   "cell_type": "code",
   "execution_count": 25,
   "metadata": {
    "collapsed": true
   },
   "outputs": [],
   "source": [
    "senti=senti.apply(comment_senti_type,axis=1)"
   ]
  },
  {
   "cell_type": "code",
   "execution_count": 26,
   "metadata": {
    "collapsed": true
   },
   "outputs": [],
   "source": [
    "senti = senti.rename(columns={ 'sentiment': 'comment_sentiment'})"
   ]
  },
  {
   "cell_type": "code",
   "execution_count": 27,
   "metadata": {},
   "outputs": [
    {
     "data": {
      "text/plain": [
       "Index(['post_id', 'comment_sentiment', 'comment_gen_senti'], dtype='object')"
      ]
     },
     "execution_count": 27,
     "metadata": {},
     "output_type": "execute_result"
    }
   ],
   "source": [
    "senti.columns"
   ]
  },
  {
   "cell_type": "markdown",
   "metadata": {},
   "source": [
    "**There are five independent variables in this analysis:**\n",
    "post type(1); question inclusion(2); call-in-action content(3); post sentiment(4); post length(5)."
   ]
  },
  {
   "cell_type": "markdown",
   "metadata": {},
   "source": [
    "- Post type is provided in the dataset."
   ]
  },
  {
   "cell_type": "code",
   "execution_count": 28,
   "metadata": {},
   "outputs": [
    {
     "data": {
      "text/plain": [
       "link     191\n",
       "video     56\n",
       "photo     53\n",
       "Name: type, dtype: int64"
      ]
     },
     "execution_count": 28,
     "metadata": {},
     "output_type": "execute_result"
    }
   ],
   "source": [
    "post_data['type'].value_counts()"
   ]
  },
  {
   "cell_type": "markdown",
   "metadata": {},
   "source": [
    "- In order to generate two variables of question inclusion and call-in-action content, I used a function to detect if particular words are present in the text of posts"
   ]
  },
  {
   "cell_type": "code",
   "execution_count": 29,
   "metadata": {
    "collapsed": true
   },
   "outputs": [],
   "source": [
    "import re"
   ]
  },
  {
   "cell_type": "code",
   "execution_count": 30,
   "metadata": {
    "collapsed": true
   },
   "outputs": [],
   "source": [
    "def wordlist_any_present(text, query):\n",
    "    text = str(text).lower()\n",
    "    newquery = []\n",
    "    for word in query:\n",
    "        newquery.append(str(word).lower())\n",
    "    tokens = re.findall(r\"[\\w']+|[.,!?;$@#]\", text)\n",
    "    \n",
    "    for word in newquery:\n",
    "        if word in tokens:\n",
    "            return 1\n",
    "    return 0"
   ]
  },
  {
   "cell_type": "markdown",
   "metadata": {},
   "source": [
    "To detect if a post contain question or not, I use the wordlist-present function to detect if a question mark is present in the text"
   ]
  },
  {
   "cell_type": "code",
   "execution_count": 31,
   "metadata": {
    "collapsed": true
   },
   "outputs": [],
   "source": [
    "post_data['question'] = post_data['post_message'].apply(wordlist_any_present,args=('?',))"
   ]
  },
  {
   "cell_type": "code",
   "execution_count": 32,
   "metadata": {},
   "outputs": [
    {
     "data": {
      "text/plain": [
       "0    253\n",
       "1     47\n",
       "Name: question, dtype: int64"
      ]
     },
     "execution_count": 32,
     "metadata": {},
     "output_type": "execute_result"
    }
   ],
   "source": [
    "post_data['question'].value_counts()"
   ]
  },
  {
   "cell_type": "markdown",
   "metadata": {},
   "source": [
    "To detect if a text is a text for calling in action, I use the wordlist present function to check if the text contains any word that deliver this meaning"
   ]
  },
  {
   "cell_type": "code",
   "execution_count": 33,
   "metadata": {
    "collapsed": true
   },
   "outputs": [],
   "source": [
    "post_data['call_in_action'] = post_data['post_message'].apply(wordlist_any_present,args=(['act','help','join',\n",
    "'take action','action','take measure','participate','participating','take part in'],))"
   ]
  },
  {
   "cell_type": "code",
   "execution_count": 34,
   "metadata": {},
   "outputs": [
    {
     "data": {
      "text/plain": [
       "0    225\n",
       "1     75\n",
       "Name: call_in_action, dtype: int64"
      ]
     },
     "execution_count": 34,
     "metadata": {},
     "output_type": "execute_result"
    }
   ],
   "source": [
    "post_data['call_in_action'].value_counts()"
   ]
  },
  {
   "cell_type": "markdown",
   "metadata": {},
   "source": [
    "- By merging sentiment data into the data before, I already have 3 columns of post sentiment, however in order to smooth the analysis, I will form a sentiment variable by summing values of 3 columns."
   ]
  },
  {
   "cell_type": "code",
   "execution_count": 35,
   "metadata": {
    "collapsed": true
   },
   "outputs": [],
   "source": [
    "post_data['negative']=post_data['negative'].apply(pd.to_numeric)\n",
    "post_data['positive']=post_data['positive'].apply(pd.to_numeric)\n",
    "post_data['neutral']=post_data['neutral'].apply(pd.to_numeric)\n",
    "post_data['sentiment']=post_data['negative']+post_data['positive']+post_data['neutral']"
   ]
  },
  {
   "cell_type": "code",
   "execution_count": 36,
   "metadata": {},
   "outputs": [
    {
     "data": {
      "text/plain": [
       " 2    69\n",
       " 0    66\n",
       "-2    59\n",
       "-1    43\n",
       " 3    26\n",
       "-3    25\n",
       "-4     6\n",
       " 4     6\n",
       "Name: sentiment, dtype: int64"
      ]
     },
     "execution_count": 36,
     "metadata": {},
     "output_type": "execute_result"
    }
   ],
   "source": [
    "post_data['sentiment'].value_counts()"
   ]
  },
  {
   "cell_type": "markdown",
   "metadata": {},
   "source": [
    "I will also form another categorical variable of sentiment that groups sentiment into three groups: neutral, positive and negative"
   ]
  },
  {
   "cell_type": "code",
   "execution_count": 37,
   "metadata": {
    "collapsed": true
   },
   "outputs": [],
   "source": [
    "def sentiment_type(row):\n",
    "    row['general_sentiment'] = 'general_sentiment'\n",
    "    if (row['sentiment'] == 0):\n",
    "        row['general_sentiment'] = 'Neutral'\n",
    "    if (row['sentiment'] > 0):\n",
    "        row['general_sentiment'] = 'Positive'\n",
    "    if (row['sentiment'] < 0):\n",
    "        row['general_sentiment'] = 'Negative'\n",
    "    return row"
   ]
  },
  {
   "cell_type": "code",
   "execution_count": 38,
   "metadata": {
    "collapsed": true
   },
   "outputs": [],
   "source": [
    "post_data=post_data.apply(sentiment_type,axis=1)"
   ]
  },
  {
   "cell_type": "code",
   "execution_count": 39,
   "metadata": {},
   "outputs": [
    {
     "data": {
      "text/plain": [
       "Negative    133\n",
       "Positive    101\n",
       "Neutral      66\n",
       "Name: general_sentiment, dtype: int64"
      ]
     },
     "execution_count": 39,
     "metadata": {},
     "output_type": "execute_result"
    }
   ],
   "source": [
    "post_data['general_sentiment'].value_counts()"
   ]
  },
  {
   "cell_type": "markdown",
   "metadata": {},
   "source": [
    "- To calculate the length of post, I use a function to calculate the total number of words in the post and create another categorical of length."
   ]
  },
  {
   "cell_type": "code",
   "execution_count": 40,
   "metadata": {
    "collapsed": true
   },
   "outputs": [],
   "source": [
    "def wordcount(value):\n",
    "    list = re.findall(\"(\\S+)\", value)\n",
    "    value= len(list)\n",
    "\n",
    "    return value"
   ]
  },
  {
   "cell_type": "code",
   "execution_count": 41,
   "metadata": {
    "collapsed": true
   },
   "outputs": [],
   "source": [
    "post_data['word_count']=post_data['post_message'].apply(wordcount)"
   ]
  },
  {
   "cell_type": "code",
   "execution_count": 42,
   "metadata": {},
   "outputs": [
    {
     "data": {
      "text/plain": [
       "count    300.000000\n",
       "mean      39.066667\n",
       "std       34.498154\n",
       "min        3.000000\n",
       "25%       17.000000\n",
       "50%       24.000000\n",
       "75%       55.000000\n",
       "max      209.000000\n",
       "Name: word_count, dtype: float64"
      ]
     },
     "execution_count": 42,
     "metadata": {},
     "output_type": "execute_result"
    }
   ],
   "source": [
    "post_data['word_count'].describe()"
   ]
  },
  {
   "cell_type": "code",
   "execution_count": 43,
   "metadata": {
    "collapsed": true
   },
   "outputs": [],
   "source": [
    "def post_length(row):\n",
    "    row['length'] = 'length'\n",
    "    if (row['word_count'] < 25.0):\n",
    "        row['length'] = 'short'\n",
    "    if (row['word_count']>=25.0 and row['word_count']<=50.0):\n",
    "        row['length'] = 'medium'\n",
    "    if (row['word_count'] > 50.0):\n",
    "        row['length'] = 'long'\n",
    "    return row"
   ]
  },
  {
   "cell_type": "code",
   "execution_count": 44,
   "metadata": {
    "collapsed": true
   },
   "outputs": [],
   "source": [
    "post_data=post_data.apply(post_length,axis=1)"
   ]
  },
  {
   "cell_type": "code",
   "execution_count": 45,
   "metadata": {},
   "outputs": [
    {
     "data": {
      "text/plain": [
       "short     155\n",
       "long       80\n",
       "medium     65\n",
       "Name: length, dtype: int64"
      ]
     },
     "execution_count": 45,
     "metadata": {},
     "output_type": "execute_result"
    }
   ],
   "source": [
    "post_data['length'].value_counts()"
   ]
  },
  {
   "cell_type": "markdown",
   "metadata": {},
   "source": [
    "Now all variables have been inspected and cleaned, all needed data is merged again into one dataframe."
   ]
  },
  {
   "cell_type": "code",
   "execution_count": 46,
   "metadata": {},
   "outputs": [
    {
     "data": {
      "text/plain": [
       "Index(['type', 'by', 'post_id', 'post_link', 'post_message', 'picture',\n",
       "       'full_picture', 'link', 'link_domain', 'post_published',\n",
       "       'post_published_unix', 'post_published_sql', 'likes_count_fb',\n",
       "       'comments_count_fb', 'reactions_count_fb', 'shares_count_fb',\n",
       "       'engagement_fb', 'comments_retrieved', 'comments_base',\n",
       "       'comments_replies', 'comment_likes_count', 'rea_LOVE', 'rea_WOW',\n",
       "       'rea_HAHA', 'rea_SAD', 'rea_ANGRY', 'rea_THANKFUL', 'negative',\n",
       "       'positive', 'neutral', 'positive_rea', 'negative_rea', 'rea_senti',\n",
       "       'reaction sentiment', 'question', 'call_in_action', 'sentiment',\n",
       "       'general_sentiment', 'word_count', 'length'],\n",
       "      dtype='object')"
      ]
     },
     "execution_count": 46,
     "metadata": {},
     "output_type": "execute_result"
    }
   ],
   "source": [
    "post_data.columns"
   ]
  },
  {
   "cell_type": "code",
   "execution_count": 47,
   "metadata": {
    "collapsed": true
   },
   "outputs": [],
   "source": [
    "post_data_full=pd.merge(post_data,senti,on='post_id')"
   ]
  },
  {
   "cell_type": "markdown",
   "metadata": {},
   "source": [
    "Now we have a single dataframe with all needed variables together with unnecessary information. I will drop the unnecessary columns."
   ]
  },
  {
   "cell_type": "code",
   "execution_count": 48,
   "metadata": {
    "collapsed": true
   },
   "outputs": [],
   "source": [
    "post_data_2=post_data_full.drop(['by','post_link','post_message','picture','full_picture','link','link_domain','post_published',\n",
    "                            'post_published_unix','post_published_sql','comments_retrieved','comments_base','comments_replies',\n",
    "                            'rea_LOVE', 'rea_WOW','rea_HAHA', 'rea_SAD', 'rea_ANGRY', 'rea_THANKFUL', 'negative','positive',\n",
    "                            'neutral','comment_likes_count',],axis=1)"
   ]
  },
  {
   "cell_type": "code",
   "execution_count": 49,
   "metadata": {},
   "outputs": [
    {
     "data": {
      "text/plain": [
       "Index(['type', 'post_id', 'likes_count_fb', 'comments_count_fb',\n",
       "       'reactions_count_fb', 'shares_count_fb', 'engagement_fb',\n",
       "       'positive_rea', 'negative_rea', 'rea_senti', 'reaction sentiment',\n",
       "       'question', 'call_in_action', 'sentiment', 'general_sentiment',\n",
       "       'word_count', 'length', 'comment_sentiment', 'comment_gen_senti'],\n",
       "      dtype='object')"
      ]
     },
     "execution_count": 49,
     "metadata": {},
     "output_type": "execute_result"
    }
   ],
   "source": [
    "post_data_2.columns"
   ]
  },
  {
   "cell_type": "markdown",
   "metadata": {},
   "source": [
    "### 3. Data Exploration\n"
   ]
  },
  {
   "cell_type": "markdown",
   "metadata": {},
   "source": [
    "**Description and visualization of dependent variables**"
   ]
  },
  {
   "cell_type": "code",
   "execution_count": 50,
   "metadata": {},
   "outputs": [
    {
     "data": {
      "text/html": [
       "<div>\n",
       "<style>\n",
       "    .dataframe thead tr:only-child th {\n",
       "        text-align: right;\n",
       "    }\n",
       "\n",
       "    .dataframe thead th {\n",
       "        text-align: left;\n",
       "    }\n",
       "\n",
       "    .dataframe tbody tr th {\n",
       "        vertical-align: top;\n",
       "    }\n",
       "</style>\n",
       "<table border=\"1\" class=\"dataframe\">\n",
       "  <thead>\n",
       "    <tr style=\"text-align: right;\">\n",
       "      <th></th>\n",
       "      <th>likes_count_fb</th>\n",
       "      <th>comments_count_fb</th>\n",
       "      <th>reactions_count_fb</th>\n",
       "      <th>shares_count_fb</th>\n",
       "      <th>engagement_fb</th>\n",
       "    </tr>\n",
       "  </thead>\n",
       "  <tbody>\n",
       "    <tr>\n",
       "      <th>count</th>\n",
       "      <td>300.000000</td>\n",
       "      <td>300.000000</td>\n",
       "      <td>300.000000</td>\n",
       "      <td>300.000000</td>\n",
       "      <td>300.000000</td>\n",
       "    </tr>\n",
       "    <tr>\n",
       "      <th>mean</th>\n",
       "      <td>1170.293333</td>\n",
       "      <td>42.740000</td>\n",
       "      <td>1516.410000</td>\n",
       "      <td>291.003333</td>\n",
       "      <td>1850.153333</td>\n",
       "    </tr>\n",
       "    <tr>\n",
       "      <th>std</th>\n",
       "      <td>1253.385732</td>\n",
       "      <td>51.459622</td>\n",
       "      <td>1624.896791</td>\n",
       "      <td>505.121076</td>\n",
       "      <td>2045.922295</td>\n",
       "    </tr>\n",
       "    <tr>\n",
       "      <th>min</th>\n",
       "      <td>64.000000</td>\n",
       "      <td>1.000000</td>\n",
       "      <td>71.000000</td>\n",
       "      <td>0.000000</td>\n",
       "      <td>87.000000</td>\n",
       "    </tr>\n",
       "    <tr>\n",
       "      <th>25%</th>\n",
       "      <td>413.000000</td>\n",
       "      <td>13.000000</td>\n",
       "      <td>533.250000</td>\n",
       "      <td>73.000000</td>\n",
       "      <td>649.250000</td>\n",
       "    </tr>\n",
       "    <tr>\n",
       "      <th>50%</th>\n",
       "      <td>761.500000</td>\n",
       "      <td>23.000000</td>\n",
       "      <td>965.000000</td>\n",
       "      <td>138.000000</td>\n",
       "      <td>1178.500000</td>\n",
       "    </tr>\n",
       "    <tr>\n",
       "      <th>75%</th>\n",
       "      <td>1429.250000</td>\n",
       "      <td>48.000000</td>\n",
       "      <td>1919.500000</td>\n",
       "      <td>286.750000</td>\n",
       "      <td>2323.000000</td>\n",
       "    </tr>\n",
       "    <tr>\n",
       "      <th>max</th>\n",
       "      <td>10257.000000</td>\n",
       "      <td>309.000000</td>\n",
       "      <td>12315.000000</td>\n",
       "      <td>5215.000000</td>\n",
       "      <td>14659.000000</td>\n",
       "    </tr>\n",
       "  </tbody>\n",
       "</table>\n",
       "</div>"
      ],
      "text/plain": [
       "       likes_count_fb  comments_count_fb  reactions_count_fb  shares_count_fb  \\\n",
       "count      300.000000         300.000000          300.000000       300.000000   \n",
       "mean      1170.293333          42.740000         1516.410000       291.003333   \n",
       "std       1253.385732          51.459622         1624.896791       505.121076   \n",
       "min         64.000000           1.000000           71.000000         0.000000   \n",
       "25%        413.000000          13.000000          533.250000        73.000000   \n",
       "50%        761.500000          23.000000          965.000000       138.000000   \n",
       "75%       1429.250000          48.000000         1919.500000       286.750000   \n",
       "max      10257.000000         309.000000        12315.000000      5215.000000   \n",
       "\n",
       "       engagement_fb  \n",
       "count     300.000000  \n",
       "mean     1850.153333  \n",
       "std      2045.922295  \n",
       "min        87.000000  \n",
       "25%       649.250000  \n",
       "50%      1178.500000  \n",
       "75%      2323.000000  \n",
       "max     14659.000000  "
      ]
     },
     "execution_count": 50,
     "metadata": {},
     "output_type": "execute_result"
    }
   ],
   "source": [
    "post_data_2[['likes_count_fb','comments_count_fb','reactions_count_fb','shares_count_fb','engagement_fb']].describe()"
   ]
  },
  {
   "cell_type": "code",
   "execution_count": 51,
   "metadata": {},
   "outputs": [
    {
     "data": {
      "text/plain": [
       "Text(0,0.5,'count')"
      ]
     },
     "execution_count": 51,
     "metadata": {},
     "output_type": "execute_result"
    },
    {
     "data": {
      "image/png": "[encoded data removed]",
      "text/plain": [
       "<matplotlib.figure.Figure at 0x1759e0764e0>"
      ]
     },
     "metadata": {},
     "output_type": "display_data"
    }
   ],
   "source": [
    "fig = plt.gcf()\n",
    "fig.set_size_inches(18.5, 9.5)\n",
    "\n",
    "plt.subplot(3,2,1)\n",
    "plt.plot(post_data_2['likes_count_fb'],color='g',alpha=0.5)\n",
    "plt.title('Likes')\n",
    "plt.ylabel('count')\n",
    "\n",
    "plt.subplot(3,2,2)\n",
    "plt.plot(post_data_2['shares_count_fb'],color='y',alpha=0.5)\n",
    "plt.title('shares')\n",
    "plt.ylabel('count')\n",
    "\n",
    "plt.subplot(3,2,3)\n",
    "plt.plot(post_data_2['comments_count_fb'],color='r',alpha=0.5)\n",
    "plt.title('comments')\n",
    "plt.ylabel('count')\n",
    "\n",
    "plt.subplot(3,2,4)\n",
    "plt.plot(post_data_2['engagement_fb'],color='b',alpha=0.5)\n",
    "plt.title('engagement')\n",
    "plt.ylabel('count')\n",
    "\n",
    "plt.subplot(3,2,5)\n",
    "plt.plot(post_data_2['reactions_count_fb'],color='m',alpha=0.5)\n",
    "plt.title('reactions')\n",
    "plt.ylabel('count')"
   ]
  },
  {
   "cell_type": "markdown",
   "metadata": {},
   "source": [
    "From this description and visualization, it is clear that the number of comments is the smallest among these metrics and is much smaller than any other metrics.\n",
    "Visualization guide is found at https://matplotlib.org/gallery/subplots_axes_and_figures/subplot.html#sphx-glr-gallery-subplots-axes-and-figures-subplot-py"
   ]
  },
  {
   "cell_type": "code",
   "execution_count": 52,
   "metadata": {},
   "outputs": [
    {
     "data": {
      "text/html": [
       "<div>\n",
       "<style>\n",
       "    .dataframe thead tr:only-child th {\n",
       "        text-align: right;\n",
       "    }\n",
       "\n",
       "    .dataframe thead th {\n",
       "        text-align: left;\n",
       "    }\n",
       "\n",
       "    .dataframe tbody tr th {\n",
       "        vertical-align: top;\n",
       "    }\n",
       "</style>\n",
       "<table border=\"1\" class=\"dataframe\">\n",
       "  <thead>\n",
       "    <tr style=\"text-align: right;\">\n",
       "      <th></th>\n",
       "      <th>positive_rea</th>\n",
       "      <th>negative_rea</th>\n",
       "      <th>rea_senti</th>\n",
       "    </tr>\n",
       "  </thead>\n",
       "  <tbody>\n",
       "    <tr>\n",
       "      <th>count</th>\n",
       "      <td>300.000000</td>\n",
       "      <td>300.000000</td>\n",
       "      <td>300.000000</td>\n",
       "    </tr>\n",
       "    <tr>\n",
       "      <th>mean</th>\n",
       "      <td>190.196667</td>\n",
       "      <td>155.813333</td>\n",
       "      <td>34.383333</td>\n",
       "    </tr>\n",
       "    <tr>\n",
       "      <th>std</th>\n",
       "      <td>291.649555</td>\n",
       "      <td>437.849410</td>\n",
       "      <td>532.995607</td>\n",
       "    </tr>\n",
       "    <tr>\n",
       "      <th>min</th>\n",
       "      <td>5.000000</td>\n",
       "      <td>0.000000</td>\n",
       "      <td>-3357.000000</td>\n",
       "    </tr>\n",
       "    <tr>\n",
       "      <th>25%</th>\n",
       "      <td>37.750000</td>\n",
       "      <td>1.000000</td>\n",
       "      <td>-13.250000</td>\n",
       "    </tr>\n",
       "    <tr>\n",
       "      <th>50%</th>\n",
       "      <td>95.500000</td>\n",
       "      <td>4.000000</td>\n",
       "      <td>63.500000</td>\n",
       "    </tr>\n",
       "    <tr>\n",
       "      <th>75%</th>\n",
       "      <td>217.000000</td>\n",
       "      <td>95.000000</td>\n",
       "      <td>182.250000</td>\n",
       "    </tr>\n",
       "    <tr>\n",
       "      <th>max</th>\n",
       "      <td>3036.000000</td>\n",
       "      <td>3440.000000</td>\n",
       "      <td>3012.000000</td>\n",
       "    </tr>\n",
       "  </tbody>\n",
       "</table>\n",
       "</div>"
      ],
      "text/plain": [
       "       positive_rea  negative_rea    rea_senti\n",
       "count    300.000000    300.000000   300.000000\n",
       "mean     190.196667    155.813333    34.383333\n",
       "std      291.649555    437.849410   532.995607\n",
       "min        5.000000      0.000000 -3357.000000\n",
       "25%       37.750000      1.000000   -13.250000\n",
       "50%       95.500000      4.000000    63.500000\n",
       "75%      217.000000     95.000000   182.250000\n",
       "max     3036.000000   3440.000000  3012.000000"
      ]
     },
     "execution_count": 52,
     "metadata": {},
     "output_type": "execute_result"
    }
   ],
   "source": [
    "post_data_2[['positive_rea','negative_rea','rea_senti']].describe()"
   ]
  },
  {
   "cell_type": "code",
   "execution_count": 53,
   "metadata": {},
   "outputs": [
    {
     "data": {
      "text/plain": [
       "[<matplotlib.lines.Line2D at 0x1759ec25cf8>]"
      ]
     },
     "execution_count": 53,
     "metadata": {},
     "output_type": "execute_result"
    },
    {
     "data": {
      "image/png": "[encoded data removed]",
      "text/plain": [
       "<matplotlib.figure.Figure at 0x1759e0877b8>"
      ]
     },
     "metadata": {},
     "output_type": "display_data"
    }
   ],
   "source": [
    "plt.plot(post_data_2['rea_senti'],color='g',alpha=0.5,label='likes')"
   ]
  },
  {
   "cell_type": "markdown",
   "metadata": {},
   "source": [
    "In general sentiment of reaction is quite balanced. Though posts that generate extreme negative reaction is more than posts generating extreme positive reaction, positive reaction is still more popular among posts. "
   ]
  },
  {
   "cell_type": "markdown",
   "metadata": {},
   "source": [
    "post_data_2[['comment_sentiment']].describe()"
   ]
  },
  {
   "cell_type": "code",
   "execution_count": 54,
   "metadata": {},
   "outputs": [
    {
     "data": {
      "text/plain": [
       "<matplotlib.axes._subplots.AxesSubplot at 0x1759ec2eb38>"
      ]
     },
     "execution_count": 54,
     "metadata": {},
     "output_type": "execute_result"
    },
    {
     "data": {
      "image/png": "[encoded data removed]",
      "text/plain": [
       "<matplotlib.figure.Figure at 0x1759e0b5438>"
      ]
     },
     "metadata": {},
     "output_type": "display_data"
    }
   ],
   "source": [
    "sns.countplot(x='comment_gen_senti', data=post_data_2)"
   ]
  },
  {
   "cell_type": "markdown",
   "metadata": {},
   "source": [
    "Comment sentiment is more polarised than reaction sentiment, with positive sentiment being the most popular.\n"
   ]
  },
  {
   "cell_type": "markdown",
   "metadata": {},
   "source": [
    "**Description and visualization of independent variables**"
   ]
  },
  {
   "cell_type": "code",
   "execution_count": 55,
   "metadata": {},
   "outputs": [
    {
     "data": {
      "text/plain": [
       "link     191\n",
       "video     56\n",
       "photo     53\n",
       "Name: type, dtype: int64"
      ]
     },
     "execution_count": 55,
     "metadata": {},
     "output_type": "execute_result"
    }
   ],
   "source": [
    "post_data_2['type'].value_counts()"
   ]
  },
  {
   "cell_type": "code",
   "execution_count": 56,
   "metadata": {},
   "outputs": [
    {
     "data": {
      "text/plain": [
       "<matplotlib.axes._subplots.AxesSubplot at 0x1759e07fc88>"
      ]
     },
     "execution_count": 56,
     "metadata": {},
     "output_type": "execute_result"
    },
    {
     "data": {
      "image/png": "[encoded data removed]",
      "text/plain": [
       "<matplotlib.figure.Figure at 0x1759e8a26a0>"
      ]
     },
     "metadata": {},
     "output_type": "display_data"
    }
   ],
   "source": [
    "sns.countplot(x=\"type\", data= post_data_2)"
   ]
  },
  {
   "cell_type": "code",
   "execution_count": 57,
   "metadata": {},
   "outputs": [
    {
     "data": {
      "text/plain": [
       "0    253\n",
       "1     47\n",
       "Name: question, dtype: int64"
      ]
     },
     "execution_count": 57,
     "metadata": {},
     "output_type": "execute_result"
    }
   ],
   "source": [
    "post_data_2['question'].value_counts()"
   ]
  },
  {
   "cell_type": "code",
   "execution_count": 58,
   "metadata": {},
   "outputs": [
    {
     "data": {
      "text/plain": [
       "<matplotlib.axes._subplots.AxesSubplot at 0x1759e873ac8>"
      ]
     },
     "execution_count": 58,
     "metadata": {},
     "output_type": "execute_result"
    },
    {
     "data": {
      "image/png": "[encoded data removed]",
      "text/plain": [
       "<matplotlib.figure.Figure at 0x1759e8cf3c8>"
      ]
     },
     "metadata": {},
     "output_type": "display_data"
    }
   ],
   "source": [
    "sns.countplot(x=\"question\", data= post_data_2, palette=\"Set1\")"
   ]
  },
  {
   "cell_type": "code",
   "execution_count": 59,
   "metadata": {},
   "outputs": [
    {
     "data": {
      "text/plain": [
       "0    225\n",
       "1     75\n",
       "Name: call_in_action, dtype: int64"
      ]
     },
     "execution_count": 59,
     "metadata": {},
     "output_type": "execute_result"
    }
   ],
   "source": [
    "post_data_2['call_in_action'].value_counts()"
   ]
  },
  {
   "cell_type": "code",
   "execution_count": 60,
   "metadata": {},
   "outputs": [
    {
     "data": {
      "text/plain": [
       "<matplotlib.axes._subplots.AxesSubplot at 0x1759e95b828>"
      ]
     },
     "execution_count": 60,
     "metadata": {},
     "output_type": "execute_result"
    },
    {
     "data": {
      "image/png": "[encoded data removed]",
      "text/plain": [
       "<matplotlib.figure.Figure at 0x1759e98b358>"
      ]
     },
     "metadata": {},
     "output_type": "display_data"
    }
   ],
   "source": [
    "sns.countplot(x=\"call_in_action\", data= post_data_2, palette=\"Set2\")"
   ]
  },
  {
   "cell_type": "code",
   "execution_count": 61,
   "metadata": {},
   "outputs": [
    {
     "data": {
      "text/html": [
       "<div>\n",
       "<style>\n",
       "    .dataframe thead tr:only-child th {\n",
       "        text-align: right;\n",
       "    }\n",
       "\n",
       "    .dataframe thead th {\n",
       "        text-align: left;\n",
       "    }\n",
       "\n",
       "    .dataframe tbody tr th {\n",
       "        vertical-align: top;\n",
       "    }\n",
       "</style>\n",
       "<table border=\"1\" class=\"dataframe\">\n",
       "  <thead>\n",
       "    <tr style=\"text-align: right;\">\n",
       "      <th></th>\n",
       "      <th>sentiment</th>\n",
       "      <th>word_count</th>\n",
       "    </tr>\n",
       "  </thead>\n",
       "  <tbody>\n",
       "    <tr>\n",
       "      <th>count</th>\n",
       "      <td>300.000000</td>\n",
       "      <td>300.000000</td>\n",
       "    </tr>\n",
       "    <tr>\n",
       "      <th>mean</th>\n",
       "      <td>-0.066667</td>\n",
       "      <td>39.066667</td>\n",
       "    </tr>\n",
       "    <tr>\n",
       "      <th>std</th>\n",
       "      <td>2.007233</td>\n",
       "      <td>34.498154</td>\n",
       "    </tr>\n",
       "    <tr>\n",
       "      <th>min</th>\n",
       "      <td>-4.000000</td>\n",
       "      <td>3.000000</td>\n",
       "    </tr>\n",
       "    <tr>\n",
       "      <th>25%</th>\n",
       "      <td>-2.000000</td>\n",
       "      <td>17.000000</td>\n",
       "    </tr>\n",
       "    <tr>\n",
       "      <th>50%</th>\n",
       "      <td>0.000000</td>\n",
       "      <td>24.000000</td>\n",
       "    </tr>\n",
       "    <tr>\n",
       "      <th>75%</th>\n",
       "      <td>2.000000</td>\n",
       "      <td>55.000000</td>\n",
       "    </tr>\n",
       "    <tr>\n",
       "      <th>max</th>\n",
       "      <td>4.000000</td>\n",
       "      <td>209.000000</td>\n",
       "    </tr>\n",
       "  </tbody>\n",
       "</table>\n",
       "</div>"
      ],
      "text/plain": [
       "        sentiment  word_count\n",
       "count  300.000000  300.000000\n",
       "mean    -0.066667   39.066667\n",
       "std      2.007233   34.498154\n",
       "min     -4.000000    3.000000\n",
       "25%     -2.000000   17.000000\n",
       "50%      0.000000   24.000000\n",
       "75%      2.000000   55.000000\n",
       "max      4.000000  209.000000"
      ]
     },
     "execution_count": 61,
     "metadata": {},
     "output_type": "execute_result"
    }
   ],
   "source": [
    "post_data_2[['sentiment','word_count']].describe()"
   ]
  },
  {
   "cell_type": "code",
   "execution_count": 62,
   "metadata": {},
   "outputs": [
    {
     "data": {
      "text/plain": [
       "<matplotlib.axes._subplots.AxesSubplot at 0x1759e9a44a8>"
      ]
     },
     "execution_count": 62,
     "metadata": {},
     "output_type": "execute_result"
    },
    {
     "data": {
      "image/png": "[encoded data removed]",
      "text/plain": [
       "<matplotlib.figure.Figure at 0x1759d95dda0>"
      ]
     },
     "metadata": {},
     "output_type": "display_data"
    }
   ],
   "source": [
    "sns.countplot(x=\"sentiment\", data= post_data_2, palette=\"Set2\")"
   ]
  },
  {
   "cell_type": "code",
   "execution_count": 63,
   "metadata": {},
   "outputs": [
    {
     "data": {
      "text/plain": [
       "<matplotlib.axes._subplots.AxesSubplot at 0x1759e9f20f0>"
      ]
     },
     "execution_count": 63,
     "metadata": {},
     "output_type": "execute_result"
    },
    {
     "data": {
      "image/png": "[encoded data removed]",
      "text/plain": [
       "<matplotlib.figure.Figure at 0x1759e991b00>"
      ]
     },
     "metadata": {},
     "output_type": "display_data"
    }
   ],
   "source": [
    "sns.countplot(x=\"length\", data= post_data_2)"
   ]
  },
  {
   "cell_type": "markdown",
   "metadata": {},
   "source": [
    "**Description and visualization of key relationships**\n",
    "\n",
    "- Hypothesis 1: Different post types generate different engagement"
   ]
  },
  {
   "cell_type": "code",
   "execution_count": 64,
   "metadata": {},
   "outputs": [
    {
     "data": {
      "text/html": [
       "<div>\n",
       "<style>\n",
       "    .dataframe thead tr:only-child th {\n",
       "        text-align: right;\n",
       "    }\n",
       "\n",
       "    .dataframe thead th {\n",
       "        text-align: left;\n",
       "    }\n",
       "\n",
       "    .dataframe tbody tr th {\n",
       "        vertical-align: top;\n",
       "    }\n",
       "</style>\n",
       "<table border=\"1\" class=\"dataframe\">\n",
       "  <thead>\n",
       "    <tr style=\"text-align: right;\">\n",
       "      <th></th>\n",
       "      <th>type</th>\n",
       "      <th>likes_count_fb</th>\n",
       "      <th>comments_count_fb</th>\n",
       "      <th>reactions_count_fb</th>\n",
       "      <th>shares_count_fb</th>\n",
       "      <th>engagement_fb</th>\n",
       "    </tr>\n",
       "  </thead>\n",
       "  <tbody>\n",
       "    <tr>\n",
       "      <th>0</th>\n",
       "      <td>link</td>\n",
       "      <td>988.319372</td>\n",
       "      <td>36.869110</td>\n",
       "      <td>1333.612565</td>\n",
       "      <td>209.078534</td>\n",
       "      <td>1579.560209</td>\n",
       "    </tr>\n",
       "    <tr>\n",
       "      <th>1</th>\n",
       "      <td>photo</td>\n",
       "      <td>1680.830189</td>\n",
       "      <td>51.358491</td>\n",
       "      <td>2033.113208</td>\n",
       "      <td>373.509434</td>\n",
       "      <td>2457.981132</td>\n",
       "    </tr>\n",
       "    <tr>\n",
       "      <th>2</th>\n",
       "      <td>video</td>\n",
       "      <td>1307.767857</td>\n",
       "      <td>54.607143</td>\n",
       "      <td>1650.857143</td>\n",
       "      <td>492.339286</td>\n",
       "      <td>2197.803571</td>\n",
       "    </tr>\n",
       "  </tbody>\n",
       "</table>\n",
       "</div>"
      ],
      "text/plain": [
       "    type  likes_count_fb  comments_count_fb  reactions_count_fb  \\\n",
       "0   link      988.319372          36.869110         1333.612565   \n",
       "1  photo     1680.830189          51.358491         2033.113208   \n",
       "2  video     1307.767857          54.607143         1650.857143   \n",
       "\n",
       "   shares_count_fb  engagement_fb  \n",
       "0       209.078534    1579.560209  \n",
       "1       373.509434    2457.981132  \n",
       "2       492.339286    2197.803571  "
      ]
     },
     "execution_count": 64,
     "metadata": {},
     "output_type": "execute_result"
    }
   ],
   "source": [
    "post_data_2.groupby('type', as_index=False)['likes_count_fb','comments_count_fb',\n",
    "                                          'reactions_count_fb','shares_count_fb','engagement_fb'].mean()"
   ]
  },
  {
   "cell_type": "markdown",
   "metadata": {},
   "source": [
    "The above description show that post of photo has the highest count of most variables except for number of comments, which video accounts for the highest number. Link is the type of post that has the lowest engagement metrics. \n",
    "\n",
    "Following is visualization of 5 primary dependent variables according to type of post. (codes for this visualization is found here https://python-graph-gallery.com/11-grouped-barplot/)"
   ]
  },
  {
   "cell_type": "code",
   "execution_count": 65,
   "metadata": {
    "collapsed": true
   },
   "outputs": [],
   "source": [
    "x=post_data_2.groupby('type', as_index=False)['likes_count_fb','comments_count_fb',\n",
    "                                          'reactions_count_fb','shares_count_fb','engagement_fb'].mean()"
   ]
  },
  {
   "cell_type": "code",
   "execution_count": 66,
   "metadata": {},
   "outputs": [
    {
     "data": {
      "image/png": "[encoded data removed]",
      "text/plain": [
       "<matplotlib.figure.Figure at 0x1759eaba780>"
      ]
     },
     "metadata": {},
     "output_type": "display_data"
    }
   ],
   "source": [
    "barWidth = 0.25\n",
    " \n",
    "bars1 = x.iloc[0,1:]\n",
    "bars2 = x.iloc[1,1:]\n",
    "bars3 = x.iloc[2,1:]\n",
    "\n",
    "r1 = np.arange(len(bars1))\n",
    "r2 = [x + barWidth for x in r1]\n",
    "r3 = [x + barWidth for x in r2]\n",
    " \n",
    "plt.bar(r1, bars1, color='red', alpha=0.7, width=barWidth, label='link')\n",
    "plt.bar(r2, bars2, color='blue', alpha=0.7,width=barWidth, label='photo')\n",
    "plt.bar(r3, bars3, color='green', alpha=0.7,width=barWidth, label='video')\n",
    " \n",
    "plt.xticks([r + barWidth for r in range(len(bars1))], ['likes', 'comments', 'reactions', 'shares','engagement'])\n",
    " \n",
    "plt.legend()\n",
    "plt.show()"
   ]
  },
  {
   "cell_type": "markdown",
   "metadata": {},
   "source": [
    "- Hypothesis 2: Question inclusion increases engagement"
   ]
  },
  {
   "cell_type": "code",
   "execution_count": 67,
   "metadata": {},
   "outputs": [
    {
     "data": {
      "text/html": [
       "<div>\n",
       "<style>\n",
       "    .dataframe thead tr:only-child th {\n",
       "        text-align: right;\n",
       "    }\n",
       "\n",
       "    .dataframe thead th {\n",
       "        text-align: left;\n",
       "    }\n",
       "\n",
       "    .dataframe tbody tr th {\n",
       "        vertical-align: top;\n",
       "    }\n",
       "</style>\n",
       "<table border=\"1\" class=\"dataframe\">\n",
       "  <thead>\n",
       "    <tr style=\"text-align: right;\">\n",
       "      <th></th>\n",
       "      <th>question</th>\n",
       "      <th>likes_count_fb</th>\n",
       "      <th>comments_count_fb</th>\n",
       "      <th>reactions_count_fb</th>\n",
       "      <th>shares_count_fb</th>\n",
       "      <th>engagement_fb</th>\n",
       "    </tr>\n",
       "  </thead>\n",
       "  <tbody>\n",
       "    <tr>\n",
       "      <th>0</th>\n",
       "      <td>0</td>\n",
       "      <td>1195.055336</td>\n",
       "      <td>41.920949</td>\n",
       "      <td>1546.150198</td>\n",
       "      <td>302.000000</td>\n",
       "      <td>1890.071146</td>\n",
       "    </tr>\n",
       "    <tr>\n",
       "      <th>1</th>\n",
       "      <td>1</td>\n",
       "      <td>1037.000000</td>\n",
       "      <td>47.148936</td>\n",
       "      <td>1356.319149</td>\n",
       "      <td>231.808511</td>\n",
       "      <td>1635.276596</td>\n",
       "    </tr>\n",
       "  </tbody>\n",
       "</table>\n",
       "</div>"
      ],
      "text/plain": [
       "   question  likes_count_fb  comments_count_fb  reactions_count_fb  \\\n",
       "0         0     1195.055336          41.920949         1546.150198   \n",
       "1         1     1037.000000          47.148936         1356.319149   \n",
       "\n",
       "   shares_count_fb  engagement_fb  \n",
       "0       302.000000    1890.071146  \n",
       "1       231.808511    1635.276596  "
      ]
     },
     "execution_count": 67,
     "metadata": {},
     "output_type": "execute_result"
    }
   ],
   "source": [
    "post_data_2.groupby('question', as_index=False)['likes_count_fb','comments_count_fb',\n",
    "                                          'reactions_count_fb','shares_count_fb','engagement_fb'].mean()"
   ]
  },
  {
   "cell_type": "markdown",
   "metadata": {},
   "source": [
    "As can be seen in this description, there is no apparent difference between two groups though content without question is slightly more engaging, which is against the hypothesis.\n",
    "This is shown clearly in visualization (the visualization is conducted via \"melting\" of data frame guided here https://www.ibm.com/developerworks/community/blogs/jfp/entry/Tidy_Data_In_Python?lang=en)"
   ]
  },
  {
   "cell_type": "code",
   "execution_count": 68,
   "metadata": {
    "collapsed": true
   },
   "outputs": [],
   "source": [
    "x2=post_data_2.groupby('question', as_index=False)['likes_count_fb','comments_count_fb',\n",
    "                                          'reactions_count_fb','shares_count_fb','engagement_fb'].mean()\n",
    "x2 = x2.rename(columns={ 'likes_count_fb': 'likes','comments_count_fb':'comments','reactions_count_fb':'reactions',\n",
    "                        'shares_count_fb':'shares','engagement_fb':'engagement'})"
   ]
  },
  {
   "cell_type": "code",
   "execution_count": 69,
   "metadata": {
    "collapsed": true
   },
   "outputs": [],
   "source": [
    "x2_melt = pd.melt(x2, \n",
    "               id_vars='question', \n",
    "               var_name='metrics', \n",
    "               value_name='means')"
   ]
  },
  {
   "cell_type": "code",
   "execution_count": 70,
   "metadata": {},
   "outputs": [
    {
     "data": {
      "text/plain": [
       "<matplotlib.axes._subplots.AxesSubplot at 0x1759ea474e0>"
      ]
     },
     "execution_count": 70,
     "metadata": {},
     "output_type": "execute_result"
    },
    {
     "data": {
      "image/png": "[encoded data removed]",
      "text/plain": [
       "<matplotlib.figure.Figure at 0x1759eaac390>"
      ]
     },
     "metadata": {},
     "output_type": "display_data"
    }
   ],
   "source": [
    "sns.barplot(x='metrics',y='means',hue='question',data=x2_melt)"
   ]
  },
  {
   "cell_type": "markdown",
   "metadata": {},
   "source": [
    "- Hypothesis 3: Call-in-action content increases engagement."
   ]
  },
  {
   "cell_type": "code",
   "execution_count": 71,
   "metadata": {},
   "outputs": [
    {
     "data": {
      "text/html": [
       "<div>\n",
       "<style>\n",
       "    .dataframe thead tr:only-child th {\n",
       "        text-align: right;\n",
       "    }\n",
       "\n",
       "    .dataframe thead th {\n",
       "        text-align: left;\n",
       "    }\n",
       "\n",
       "    .dataframe tbody tr th {\n",
       "        vertical-align: top;\n",
       "    }\n",
       "</style>\n",
       "<table border=\"1\" class=\"dataframe\">\n",
       "  <thead>\n",
       "    <tr style=\"text-align: right;\">\n",
       "      <th></th>\n",
       "      <th>call_in_action</th>\n",
       "      <th>likes_count_fb</th>\n",
       "      <th>comments_count_fb</th>\n",
       "      <th>reactions_count_fb</th>\n",
       "      <th>shares_count_fb</th>\n",
       "      <th>engagement_fb</th>\n",
       "    </tr>\n",
       "  </thead>\n",
       "  <tbody>\n",
       "    <tr>\n",
       "      <th>0</th>\n",
       "      <td>0</td>\n",
       "      <td>1194.168889</td>\n",
       "      <td>42.151111</td>\n",
       "      <td>1532.311111</td>\n",
       "      <td>285.493333</td>\n",
       "      <td>1859.955556</td>\n",
       "    </tr>\n",
       "    <tr>\n",
       "      <th>1</th>\n",
       "      <td>1</td>\n",
       "      <td>1098.666667</td>\n",
       "      <td>44.506667</td>\n",
       "      <td>1468.706667</td>\n",
       "      <td>307.533333</td>\n",
       "      <td>1820.746667</td>\n",
       "    </tr>\n",
       "  </tbody>\n",
       "</table>\n",
       "</div>"
      ],
      "text/plain": [
       "   call_in_action  likes_count_fb  comments_count_fb  reactions_count_fb  \\\n",
       "0               0     1194.168889          42.151111         1532.311111   \n",
       "1               1     1098.666667          44.506667         1468.706667   \n",
       "\n",
       "   shares_count_fb  engagement_fb  \n",
       "0       285.493333    1859.955556  \n",
       "1       307.533333    1820.746667  "
      ]
     },
     "execution_count": 71,
     "metadata": {},
     "output_type": "execute_result"
    }
   ],
   "source": [
    "post_data_2.groupby('call_in_action', as_index=False)['likes_count_fb','comments_count_fb',\n",
    "                                          'reactions_count_fb','shares_count_fb','engagement_fb'].mean()"
   ]
  },
  {
   "cell_type": "markdown",
   "metadata": {},
   "source": [
    "Similar to Hypothesis 2, there is little difference between two groups in engagement and call-in-action content generate slightly less engagement."
   ]
  },
  {
   "cell_type": "code",
   "execution_count": 72,
   "metadata": {},
   "outputs": [
    {
     "data": {
      "text/plain": [
       "<matplotlib.axes._subplots.AxesSubplot at 0x1759eb8ebe0>"
      ]
     },
     "execution_count": 72,
     "metadata": {},
     "output_type": "execute_result"
    },
    {
     "data": {
      "image/png": "[encoded data removed]",
      "text/plain": [
       "<matplotlib.figure.Figure at 0x1759eb8e128>"
      ]
     },
     "metadata": {},
     "output_type": "display_data"
    }
   ],
   "source": [
    "x3=post_data_2.groupby('call_in_action', as_index=False)['likes_count_fb','comments_count_fb',\n",
    "                                          'reactions_count_fb','shares_count_fb','engagement_fb'].mean()\n",
    "x3 = x3.rename(columns={ 'likes_count_fb': 'likes','comments_count_fb':'comments','reactions_count_fb':'reactions',\n",
    "                        'shares_count_fb':'shares','engagement_fb':'engagement'})\n",
    "x3_melt = pd.melt(x3, \n",
    "               id_vars='call_in_action', \n",
    "               var_name='metrics', \n",
    "               value_name='means')\n",
    "sns.barplot(x='metrics',y='means',hue='call_in_action',data=x3_melt,palette='Set2')"
   ]
  },
  {
   "cell_type": "markdown",
   "metadata": {},
   "source": [
    "- Hypothesis 4: Sentiment of post affects engagement quantitatively and qualitatively"
   ]
  },
  {
   "cell_type": "code",
   "execution_count": 73,
   "metadata": {},
   "outputs": [
    {
     "data": {
      "text/html": [
       "<div>\n",
       "<style>\n",
       "    .dataframe thead tr:only-child th {\n",
       "        text-align: right;\n",
       "    }\n",
       "\n",
       "    .dataframe thead th {\n",
       "        text-align: left;\n",
       "    }\n",
       "\n",
       "    .dataframe tbody tr th {\n",
       "        vertical-align: top;\n",
       "    }\n",
       "</style>\n",
       "<table border=\"1\" class=\"dataframe\">\n",
       "  <thead>\n",
       "    <tr style=\"text-align: right;\">\n",
       "      <th></th>\n",
       "      <th>sentiment</th>\n",
       "      <th>likes_count_fb</th>\n",
       "      <th>comments_count_fb</th>\n",
       "      <th>reactions_count_fb</th>\n",
       "      <th>shares_count_fb</th>\n",
       "      <th>engagement_fb</th>\n",
       "    </tr>\n",
       "  </thead>\n",
       "  <tbody>\n",
       "    <tr>\n",
       "      <th>0</th>\n",
       "      <td>-4</td>\n",
       "      <td>722.500000</td>\n",
       "      <td>35.000000</td>\n",
       "      <td>944.833333</td>\n",
       "      <td>207.666667</td>\n",
       "      <td>1187.500000</td>\n",
       "    </tr>\n",
       "    <tr>\n",
       "      <th>1</th>\n",
       "      <td>-3</td>\n",
       "      <td>776.360000</td>\n",
       "      <td>36.920000</td>\n",
       "      <td>1146.680000</td>\n",
       "      <td>283.560000</td>\n",
       "      <td>1467.160000</td>\n",
       "    </tr>\n",
       "    <tr>\n",
       "      <th>2</th>\n",
       "      <td>-2</td>\n",
       "      <td>908.406780</td>\n",
       "      <td>36.576271</td>\n",
       "      <td>1289.813559</td>\n",
       "      <td>228.610169</td>\n",
       "      <td>1555.000000</td>\n",
       "    </tr>\n",
       "    <tr>\n",
       "      <th>3</th>\n",
       "      <td>-1</td>\n",
       "      <td>1165.534884</td>\n",
       "      <td>53.069767</td>\n",
       "      <td>1498.697674</td>\n",
       "      <td>292.279070</td>\n",
       "      <td>1844.046512</td>\n",
       "    </tr>\n",
       "    <tr>\n",
       "      <th>4</th>\n",
       "      <td>0</td>\n",
       "      <td>982.696970</td>\n",
       "      <td>43.363636</td>\n",
       "      <td>1280.803030</td>\n",
       "      <td>322.363636</td>\n",
       "      <td>1646.530303</td>\n",
       "    </tr>\n",
       "    <tr>\n",
       "      <th>5</th>\n",
       "      <td>2</td>\n",
       "      <td>1336.492754</td>\n",
       "      <td>41.579710</td>\n",
       "      <td>1650.608696</td>\n",
       "      <td>285.304348</td>\n",
       "      <td>1977.492754</td>\n",
       "    </tr>\n",
       "    <tr>\n",
       "      <th>6</th>\n",
       "      <td>3</td>\n",
       "      <td>2090.538462</td>\n",
       "      <td>46.115385</td>\n",
       "      <td>2493.115385</td>\n",
       "      <td>339.384615</td>\n",
       "      <td>2878.615385</td>\n",
       "    </tr>\n",
       "    <tr>\n",
       "      <th>7</th>\n",
       "      <td>4</td>\n",
       "      <td>2033.333333</td>\n",
       "      <td>53.166667</td>\n",
       "      <td>2799.666667</td>\n",
       "      <td>520.666667</td>\n",
       "      <td>3373.500000</td>\n",
       "    </tr>\n",
       "  </tbody>\n",
       "</table>\n",
       "</div>"
      ],
      "text/plain": [
       "   sentiment  likes_count_fb  comments_count_fb  reactions_count_fb  \\\n",
       "0         -4      722.500000          35.000000          944.833333   \n",
       "1         -3      776.360000          36.920000         1146.680000   \n",
       "2         -2      908.406780          36.576271         1289.813559   \n",
       "3         -1     1165.534884          53.069767         1498.697674   \n",
       "4          0      982.696970          43.363636         1280.803030   \n",
       "5          2     1336.492754          41.579710         1650.608696   \n",
       "6          3     2090.538462          46.115385         2493.115385   \n",
       "7          4     2033.333333          53.166667         2799.666667   \n",
       "\n",
       "   shares_count_fb  engagement_fb  \n",
       "0       207.666667    1187.500000  \n",
       "1       283.560000    1467.160000  \n",
       "2       228.610169    1555.000000  \n",
       "3       292.279070    1844.046512  \n",
       "4       322.363636    1646.530303  \n",
       "5       285.304348    1977.492754  \n",
       "6       339.384615    2878.615385  \n",
       "7       520.666667    3373.500000  "
      ]
     },
     "execution_count": 73,
     "metadata": {},
     "output_type": "execute_result"
    }
   ],
   "source": [
    "post_data_2.groupby('sentiment', as_index=False)['likes_count_fb','comments_count_fb',\n",
    "                                          'reactions_count_fb','shares_count_fb','engagement_fb'].mean()"
   ]
  },
  {
   "cell_type": "code",
   "execution_count": 74,
   "metadata": {},
   "outputs": [
    {
     "data": {
      "text/html": [
       "<div>\n",
       "<style>\n",
       "    .dataframe thead tr:only-child th {\n",
       "        text-align: right;\n",
       "    }\n",
       "\n",
       "    .dataframe thead th {\n",
       "        text-align: left;\n",
       "    }\n",
       "\n",
       "    .dataframe tbody tr th {\n",
       "        vertical-align: top;\n",
       "    }\n",
       "</style>\n",
       "<table border=\"1\" class=\"dataframe\">\n",
       "  <thead>\n",
       "    <tr style=\"text-align: right;\">\n",
       "      <th></th>\n",
       "      <th>general_sentiment</th>\n",
       "      <th>likes_count_fb</th>\n",
       "      <th>comments_count_fb</th>\n",
       "      <th>reactions_count_fb</th>\n",
       "      <th>shares_count_fb</th>\n",
       "      <th>engagement_fb</th>\n",
       "    </tr>\n",
       "  </thead>\n",
       "  <tbody>\n",
       "    <tr>\n",
       "      <th>0</th>\n",
       "      <td>Negative</td>\n",
       "      <td>958.330827</td>\n",
       "      <td>41.902256</td>\n",
       "      <td>1314.879699</td>\n",
       "      <td>258.578947</td>\n",
       "      <td>1615.360902</td>\n",
       "    </tr>\n",
       "    <tr>\n",
       "      <th>1</th>\n",
       "      <td>Neutral</td>\n",
       "      <td>982.696970</td>\n",
       "      <td>43.363636</td>\n",
       "      <td>1280.803030</td>\n",
       "      <td>322.363636</td>\n",
       "      <td>1646.530303</td>\n",
       "    </tr>\n",
       "    <tr>\n",
       "      <th>2</th>\n",
       "      <td>Positive</td>\n",
       "      <td>1572.000000</td>\n",
       "      <td>43.435644</td>\n",
       "      <td>1935.752475</td>\n",
       "      <td>313.207921</td>\n",
       "      <td>2292.396040</td>\n",
       "    </tr>\n",
       "  </tbody>\n",
       "</table>\n",
       "</div>"
      ],
      "text/plain": [
       "  general_sentiment  likes_count_fb  comments_count_fb  reactions_count_fb  \\\n",
       "0          Negative      958.330827          41.902256         1314.879699   \n",
       "1           Neutral      982.696970          43.363636         1280.803030   \n",
       "2          Positive     1572.000000          43.435644         1935.752475   \n",
       "\n",
       "   shares_count_fb  engagement_fb  \n",
       "0       258.578947    1615.360902  \n",
       "1       322.363636    1646.530303  \n",
       "2       313.207921    2292.396040  "
      ]
     },
     "execution_count": 74,
     "metadata": {},
     "output_type": "execute_result"
    }
   ],
   "source": [
    "post_data_2.groupby('general_sentiment', as_index=False)['likes_count_fb','comments_count_fb',\n",
    "                                          'reactions_count_fb','shares_count_fb','engagement_fb'].mean()"
   ]
  },
  {
   "cell_type": "code",
   "execution_count": 75,
   "metadata": {},
   "outputs": [
    {
     "data": {
      "text/plain": [
       "<matplotlib.axes._subplots.AxesSubplot at 0x1759e9f2cc0>"
      ]
     },
     "execution_count": 75,
     "metadata": {},
     "output_type": "execute_result"
    },
    {
     "data": {
      "image/png": "[encoded data removed]",
      "text/plain": [
       "<matplotlib.figure.Figure at 0x1759e938cc0>"
      ]
     },
     "metadata": {},
     "output_type": "display_data"
    }
   ],
   "source": [
    "x4=post_data_2.groupby('general_sentiment', as_index=False)['likes_count_fb','comments_count_fb',\n",
    "                                          'reactions_count_fb','shares_count_fb','engagement_fb'].mean()\n",
    "x4 = x4.rename(columns={ 'likes_count_fb': 'likes','comments_count_fb':'comments','reactions_count_fb':'reactions',\n",
    "                        'shares_count_fb':'shares','engagement_fb':'engagement'})\n",
    "x4_melt = pd.melt(x4, \n",
    "               id_vars='general_sentiment', \n",
    "               var_name='metrics', \n",
    "               value_name='means')\n",
    "sns.barplot(x='metrics',y='means',hue='general_sentiment',data=x4_melt)"
   ]
  },
  {
   "cell_type": "markdown",
   "metadata": {},
   "source": [
    "In most cases (especially for likes, reactions, engagement), the the more positive the the post is, the more engagement it generates. However in more pro-active engagement like comments and shares, the difference is much smaller, as shown in visualization."
   ]
  },
  {
   "cell_type": "code",
   "execution_count": 76,
   "metadata": {},
   "outputs": [
    {
     "data": {
      "text/html": [
       "<div>\n",
       "<style>\n",
       "    .dataframe thead tr:only-child th {\n",
       "        text-align: right;\n",
       "    }\n",
       "\n",
       "    .dataframe thead th {\n",
       "        text-align: left;\n",
       "    }\n",
       "\n",
       "    .dataframe tbody tr th {\n",
       "        vertical-align: top;\n",
       "    }\n",
       "</style>\n",
       "<table border=\"1\" class=\"dataframe\">\n",
       "  <thead>\n",
       "    <tr style=\"text-align: right;\">\n",
       "      <th></th>\n",
       "      <th>sentiment</th>\n",
       "      <th>positive_rea</th>\n",
       "      <th>negative_rea</th>\n",
       "      <th>rea_senti</th>\n",
       "    </tr>\n",
       "  </thead>\n",
       "  <tbody>\n",
       "    <tr>\n",
       "      <th>0</th>\n",
       "      <td>-4</td>\n",
       "      <td>69.000000</td>\n",
       "      <td>153.333333</td>\n",
       "      <td>-84.333333</td>\n",
       "    </tr>\n",
       "    <tr>\n",
       "      <th>1</th>\n",
       "      <td>-3</td>\n",
       "      <td>76.400000</td>\n",
       "      <td>293.880000</td>\n",
       "      <td>-217.480000</td>\n",
       "    </tr>\n",
       "    <tr>\n",
       "      <th>2</th>\n",
       "      <td>-2</td>\n",
       "      <td>137.593220</td>\n",
       "      <td>243.711864</td>\n",
       "      <td>-106.118644</td>\n",
       "    </tr>\n",
       "    <tr>\n",
       "      <th>3</th>\n",
       "      <td>-1</td>\n",
       "      <td>227.046512</td>\n",
       "      <td>105.813953</td>\n",
       "      <td>121.232558</td>\n",
       "    </tr>\n",
       "    <tr>\n",
       "      <th>4</th>\n",
       "      <td>0</td>\n",
       "      <td>140.681818</td>\n",
       "      <td>157.348485</td>\n",
       "      <td>-16.666667</td>\n",
       "    </tr>\n",
       "    <tr>\n",
       "      <th>5</th>\n",
       "      <td>2</td>\n",
       "      <td>221.144928</td>\n",
       "      <td>92.884058</td>\n",
       "      <td>128.260870</td>\n",
       "    </tr>\n",
       "    <tr>\n",
       "      <th>6</th>\n",
       "      <td>3</td>\n",
       "      <td>392.230769</td>\n",
       "      <td>10.307692</td>\n",
       "      <td>381.923077</td>\n",
       "    </tr>\n",
       "    <tr>\n",
       "      <th>7</th>\n",
       "      <td>4</td>\n",
       "      <td>352.000000</td>\n",
       "      <td>414.333333</td>\n",
       "      <td>-62.333333</td>\n",
       "    </tr>\n",
       "  </tbody>\n",
       "</table>\n",
       "</div>"
      ],
      "text/plain": [
       "   sentiment  positive_rea  negative_rea   rea_senti\n",
       "0         -4     69.000000    153.333333  -84.333333\n",
       "1         -3     76.400000    293.880000 -217.480000\n",
       "2         -2    137.593220    243.711864 -106.118644\n",
       "3         -1    227.046512    105.813953  121.232558\n",
       "4          0    140.681818    157.348485  -16.666667\n",
       "5          2    221.144928     92.884058  128.260870\n",
       "6          3    392.230769     10.307692  381.923077\n",
       "7          4    352.000000    414.333333  -62.333333"
      ]
     },
     "execution_count": 76,
     "metadata": {},
     "output_type": "execute_result"
    }
   ],
   "source": [
    "post_data_2.groupby('sentiment', as_index=False)['positive_rea','negative_rea','rea_senti'].mean()"
   ]
  },
  {
   "cell_type": "code",
   "execution_count": 77,
   "metadata": {},
   "outputs": [
    {
     "data": {
      "text/plain": [
       "<matplotlib.axes._subplots.AxesSubplot at 0x1759ea62780>"
      ]
     },
     "execution_count": 77,
     "metadata": {},
     "output_type": "execute_result"
    },
    {
     "data": {
      "image/png": "[encoded data removed]",
      "text/plain": [
       "<matplotlib.figure.Figure at 0x1759eb40d68>"
      ]
     },
     "metadata": {},
     "output_type": "display_data"
    }
   ],
   "source": [
    "sns.barplot(x='sentiment',y='rea_senti',data=post_data_2)"
   ]
  },
  {
   "cell_type": "markdown",
   "metadata": {},
   "source": [
    "As shown above, generally post sentiment positively affect reaction sentiment. However the effect does not seem to be consitent and linear."
   ]
  },
  {
   "cell_type": "code",
   "execution_count": 78,
   "metadata": {},
   "outputs": [
    {
     "data": {
      "text/plain": [
       "<matplotlib.axes._subplots.AxesSubplot at 0x1759e09cd68>"
      ]
     },
     "execution_count": 78,
     "metadata": {},
     "output_type": "execute_result"
    },
    {
     "data": {
      "image/png": "[encoded data removed]",
      "text/plain": [
       "<matplotlib.figure.Figure at 0x1759ef18828>"
      ]
     },
     "metadata": {},
     "output_type": "display_data"
    }
   ],
   "source": [
    "sns.barplot(x='sentiment',y='comment_sentiment',data=post_data_2)"
   ]
  },
  {
   "cell_type": "markdown",
   "metadata": {
    "collapsed": true
   },
   "source": [
    "As above visualizations show, sentiment of posts do have positive effect on sentiment of comment. Compared to reaction sentiment above, the effect on comment sentiment is more apparent."
   ]
  },
  {
   "cell_type": "code",
   "execution_count": 79,
   "metadata": {},
   "outputs": [
    {
     "data": {
      "text/html": [
       "<div>\n",
       "<style>\n",
       "    .dataframe thead tr:only-child th {\n",
       "        text-align: right;\n",
       "    }\n",
       "\n",
       "    .dataframe thead th {\n",
       "        text-align: left;\n",
       "    }\n",
       "\n",
       "    .dataframe tbody tr th {\n",
       "        vertical-align: top;\n",
       "    }\n",
       "</style>\n",
       "<table border=\"1\" class=\"dataframe\">\n",
       "  <thead>\n",
       "    <tr style=\"text-align: right;\">\n",
       "      <th>reaction sentiment</th>\n",
       "      <th>Negative</th>\n",
       "      <th>Positive</th>\n",
       "    </tr>\n",
       "    <tr>\n",
       "      <th>general_sentiment</th>\n",
       "      <th></th>\n",
       "      <th></th>\n",
       "    </tr>\n",
       "  </thead>\n",
       "  <tbody>\n",
       "    <tr>\n",
       "      <th>Negative</th>\n",
       "      <td>47</td>\n",
       "      <td>86</td>\n",
       "    </tr>\n",
       "    <tr>\n",
       "      <th>Neutral</th>\n",
       "      <td>23</td>\n",
       "      <td>43</td>\n",
       "    </tr>\n",
       "    <tr>\n",
       "      <th>Positive</th>\n",
       "      <td>10</td>\n",
       "      <td>91</td>\n",
       "    </tr>\n",
       "  </tbody>\n",
       "</table>\n",
       "</div>"
      ],
      "text/plain": [
       "reaction sentiment  Negative  Positive\n",
       "general_sentiment                     \n",
       "Negative                  47        86\n",
       "Neutral                   23        43\n",
       "Positive                  10        91"
      ]
     },
     "execution_count": 79,
     "metadata": {},
     "output_type": "execute_result"
    }
   ],
   "source": [
    "pd.crosstab(post_data_2['general_sentiment'], post_data_2['reaction sentiment'])"
   ]
  },
  {
   "cell_type": "code",
   "execution_count": 80,
   "metadata": {},
   "outputs": [
    {
     "data": {
      "text/html": [
       "<div>\n",
       "<style>\n",
       "    .dataframe thead tr:only-child th {\n",
       "        text-align: right;\n",
       "    }\n",
       "\n",
       "    .dataframe thead th {\n",
       "        text-align: left;\n",
       "    }\n",
       "\n",
       "    .dataframe tbody tr th {\n",
       "        vertical-align: top;\n",
       "    }\n",
       "</style>\n",
       "<table border=\"1\" class=\"dataframe\">\n",
       "  <thead>\n",
       "    <tr style=\"text-align: right;\">\n",
       "      <th>comment_gen_senti</th>\n",
       "      <th>Negative</th>\n",
       "      <th>Neutral</th>\n",
       "      <th>Positive</th>\n",
       "    </tr>\n",
       "    <tr>\n",
       "      <th>general_sentiment</th>\n",
       "      <th></th>\n",
       "      <th></th>\n",
       "      <th></th>\n",
       "    </tr>\n",
       "  </thead>\n",
       "  <tbody>\n",
       "    <tr>\n",
       "      <th>Negative</th>\n",
       "      <td>51</td>\n",
       "      <td>1</td>\n",
       "      <td>81</td>\n",
       "    </tr>\n",
       "    <tr>\n",
       "      <th>Neutral</th>\n",
       "      <td>21</td>\n",
       "      <td>1</td>\n",
       "      <td>44</td>\n",
       "    </tr>\n",
       "    <tr>\n",
       "      <th>Positive</th>\n",
       "      <td>10</td>\n",
       "      <td>2</td>\n",
       "      <td>89</td>\n",
       "    </tr>\n",
       "  </tbody>\n",
       "</table>\n",
       "</div>"
      ],
      "text/plain": [
       "comment_gen_senti  Negative  Neutral  Positive\n",
       "general_sentiment                             \n",
       "Negative                 51        1        81\n",
       "Neutral                  21        1        44\n",
       "Positive                 10        2        89"
      ]
     },
     "execution_count": 80,
     "metadata": {},
     "output_type": "execute_result"
    }
   ],
   "source": [
    "pd.crosstab(post_data_2['general_sentiment'], post_data_2['comment_gen_senti'])"
   ]
  },
  {
   "cell_type": "markdown",
   "metadata": {},
   "source": [
    "The crosstabs above somehow present a correlation between sentiment of post and sentiment of comment. However in both cases it seems that while positive content normally generate positive reaction and comment, negative content even generate more positive comment and reaction than negative ones. "
   ]
  },
  {
   "cell_type": "markdown",
   "metadata": {},
   "source": [
    "- Hypothesis 5: Length of post affects engagement."
   ]
  },
  {
   "cell_type": "code",
   "execution_count": 81,
   "metadata": {},
   "outputs": [
    {
     "data": {
      "text/html": [
       "<div>\n",
       "<style>\n",
       "    .dataframe thead tr:only-child th {\n",
       "        text-align: right;\n",
       "    }\n",
       "\n",
       "    .dataframe thead th {\n",
       "        text-align: left;\n",
       "    }\n",
       "\n",
       "    .dataframe tbody tr th {\n",
       "        vertical-align: top;\n",
       "    }\n",
       "</style>\n",
       "<table border=\"1\" class=\"dataframe\">\n",
       "  <thead>\n",
       "    <tr style=\"text-align: right;\">\n",
       "      <th></th>\n",
       "      <th>length</th>\n",
       "      <th>likes_count_fb</th>\n",
       "      <th>comments_count_fb</th>\n",
       "      <th>reactions_count_fb</th>\n",
       "      <th>shares_count_fb</th>\n",
       "      <th>engagement_fb</th>\n",
       "    </tr>\n",
       "  </thead>\n",
       "  <tbody>\n",
       "    <tr>\n",
       "      <th>0</th>\n",
       "      <td>long</td>\n",
       "      <td>1237.075000</td>\n",
       "      <td>46.300000</td>\n",
       "      <td>1592.012500</td>\n",
       "      <td>310.150000</td>\n",
       "      <td>1948.462500</td>\n",
       "    </tr>\n",
       "    <tr>\n",
       "      <th>1</th>\n",
       "      <td>medium</td>\n",
       "      <td>1415.538462</td>\n",
       "      <td>49.061538</td>\n",
       "      <td>1919.753846</td>\n",
       "      <td>365.446154</td>\n",
       "      <td>2334.261538</td>\n",
       "    </tr>\n",
       "    <tr>\n",
       "      <th>2</th>\n",
       "      <td>short</td>\n",
       "      <td>1032.980645</td>\n",
       "      <td>38.251613</td>\n",
       "      <td>1308.245161</td>\n",
       "      <td>249.903226</td>\n",
       "      <td>1596.400000</td>\n",
       "    </tr>\n",
       "  </tbody>\n",
       "</table>\n",
       "</div>"
      ],
      "text/plain": [
       "   length  likes_count_fb  comments_count_fb  reactions_count_fb  \\\n",
       "0    long     1237.075000          46.300000         1592.012500   \n",
       "1  medium     1415.538462          49.061538         1919.753846   \n",
       "2   short     1032.980645          38.251613         1308.245161   \n",
       "\n",
       "   shares_count_fb  engagement_fb  \n",
       "0       310.150000    1948.462500  \n",
       "1       365.446154    2334.261538  \n",
       "2       249.903226    1596.400000  "
      ]
     },
     "execution_count": 81,
     "metadata": {},
     "output_type": "execute_result"
    }
   ],
   "source": [
    "post_data_2.groupby('length', as_index=False)['likes_count_fb','comments_count_fb',\n",
    "                                          'reactions_count_fb','shares_count_fb','engagement_fb'].mean()"
   ]
  },
  {
   "cell_type": "code",
   "execution_count": 82,
   "metadata": {},
   "outputs": [
    {
     "data": {
      "text/plain": [
       "<matplotlib.axes._subplots.AxesSubplot at 0x1759f06c7b8>"
      ]
     },
     "execution_count": 82,
     "metadata": {},
     "output_type": "execute_result"
    },
    {
     "data": {
      "image/png": "[encoded data removed]",
      "text/plain": [
       "<matplotlib.figure.Figure at 0x1759f06c278>"
      ]
     },
     "metadata": {},
     "output_type": "display_data"
    }
   ],
   "source": [
    "x5=post_data_2.groupby('length', as_index=False)['likes_count_fb','comments_count_fb',\n",
    "                                          'reactions_count_fb','shares_count_fb','engagement_fb'].mean()\n",
    "x5 = x5.rename(columns={ 'likes_count_fb': 'likes','comments_count_fb':'comments','reactions_count_fb':'reactions',\n",
    "                        'shares_count_fb':'shares','engagement_fb':'engagement'})\n",
    "x5_melt = pd.melt(x5, \n",
    "               id_vars='length', \n",
    "               var_name='metrics', \n",
    "               value_name='means')\n",
    "sns.barplot(x='metrics',y='means',hue='length',data=x5_melt,palette='deep')"
   ]
  },
  {
   "cell_type": "markdown",
   "metadata": {},
   "source": [
    "Generally long post generates slightly less engagement than short posts but posts of medium length get the most engagement. The relationship therefore does not seem to be clear."
   ]
  },
  {
   "cell_type": "code",
   "execution_count": 83,
   "metadata": {},
   "outputs": [
    {
     "data": {
      "text/plain": [
       "<seaborn.axisgrid.FacetGrid at 0x1759eeab128>"
      ]
     },
     "execution_count": 83,
     "metadata": {},
     "output_type": "execute_result"
    },
    {
     "data": {
      "image/png": "[encoded data removed]",
      "text/plain": [
       "<matplotlib.figure.Figure at 0x1759eedfe48>"
      ]
     },
     "metadata": {},
     "output_type": "display_data"
    }
   ],
   "source": [
    "sns.lmplot(x='word_count',y='engagement_fb',data=post_data_2)"
   ]
  },
  {
   "cell_type": "markdown",
   "metadata": {},
   "source": [
    "## 4. Hypotheses testing\n",
    "\n",
    "To test the hypotheses, two types of tests are used: \n",
    "\n",
    "For Hypothesis 1 Tukey test is conducted to compare means of engagement metrics pair-wise. \n",
    "\n",
    "To test all hypotheses at once, OLS is utilised. "
   ]
  },
  {
   "cell_type": "code",
   "execution_count": 84,
   "metadata": {
    "collapsed": true
   },
   "outputs": [],
   "source": [
    "import statsmodels\n",
    "from statsmodels.formula.api import ols\n",
    "from statsmodels.stats.multicomp import pairwise_tukeyhsd"
   ]
  },
  {
   "cell_type": "markdown",
   "metadata": {},
   "source": [
    "**Hypothesis 1 testing**\n",
    "\n",
    "In order to do this, I will conduct Tukey test, which is a single-step multiple comparison procedure and statistical test to see if there is difference among groups of post type in engagement. The guide is found at http://hamelg.blogspot.nl/2015/11/python-for-data-analysis-part-16_23.html "
   ]
  },
  {
   "cell_type": "code",
   "execution_count": 85,
   "metadata": {},
   "outputs": [
    {
     "data": {
      "text/html": [
       "<table class=\"simpletable\">\n",
       "<caption>Multiple Comparison of Means - Tukey HSD,FWER=0.05</caption>\n",
       "<tr>\n",
       "  <th>group1</th> <th>group2</th> <th>meandiff</th>   <th>lower</th>   <th>upper</th>  <th>reject</th>\n",
       "</tr>\n",
       "<tr>\n",
       "   <td>link</td>   <td>photo</td>  <td>14.4894</td>  <td>-4.173</td>  <td>33.1518</td>  <td>False</td>\n",
       "</tr>\n",
       "<tr>\n",
       "   <td>link</td>   <td>video</td>  <td>17.738</td>   <td>-0.5289</td> <td>36.0049</td>  <td>False</td>\n",
       "</tr>\n",
       "<tr>\n",
       "   <td>photo</td>  <td>video</td>  <td>3.2487</td>  <td>-19.7874</td> <td>26.2847</td>  <td>False</td>\n",
       "</tr>\n",
       "</table>"
      ],
      "text/plain": [
       "<class 'statsmodels.iolib.table.SimpleTable'>"
      ]
     },
     "execution_count": 85,
     "metadata": {},
     "output_type": "execute_result"
    }
   ],
   "source": [
    "test1a = pairwise_tukeyhsd(endog=post_data_2['comments_count_fb'],\n",
    "                          groups=post_data_2['type'],\n",
    "                          alpha=0.05)\n",
    "test1a.summary()"
   ]
  },
  {
   "cell_type": "code",
   "execution_count": 86,
   "metadata": {},
   "outputs": [
    {
     "data": {
      "text/html": [
       "<table class=\"simpletable\">\n",
       "<caption>Multiple Comparison of Means - Tukey HSD,FWER=0.05</caption>\n",
       "<tr>\n",
       "  <th>group1</th> <th>group2</th> <th>meandiff</th>    <th>lower</th>     <th>upper</th>   <th>reject</th>\n",
       "</tr>\n",
       "<tr>\n",
       "   <td>link</td>   <td>photo</td> <td>692.5108</td>  <td>243.0773</td>  <td>1141.9444</td>  <td>True</td> \n",
       "</tr>\n",
       "<tr>\n",
       "   <td>link</td>   <td>video</td> <td>319.4485</td>  <td>-120.4607</td> <td>759.3576</td>   <td>False</td>\n",
       "</tr>\n",
       "<tr>\n",
       "   <td>photo</td>  <td>video</td> <td>-373.0623</td> <td>-927.8241</td> <td>181.6994</td>   <td>False</td>\n",
       "</tr>\n",
       "</table>"
      ],
      "text/plain": [
       "<class 'statsmodels.iolib.table.SimpleTable'>"
      ]
     },
     "execution_count": 86,
     "metadata": {},
     "output_type": "execute_result"
    }
   ],
   "source": [
    "test1b = pairwise_tukeyhsd(endog=post_data_2['likes_count_fb'],\n",
    "                          groups=post_data_2['type'],\n",
    "                          alpha=0.05)\n",
    "test1b.summary()"
   ]
  },
  {
   "cell_type": "code",
   "execution_count": 87,
   "metadata": {},
   "outputs": [
    {
     "data": {
      "text/html": [
       "<table class=\"simpletable\">\n",
       "<caption>Multiple Comparison of Means - Tukey HSD,FWER=0.05</caption>\n",
       "<tr>\n",
       "  <th>group1</th> <th>group2</th> <th>meandiff</th>     <th>lower</th>     <th>upper</th>   <th>reject</th>\n",
       "</tr>\n",
       "<tr>\n",
       "   <td>link</td>   <td>photo</td> <td>878.4209</td>   <td>139.8641</td>  <td>1616.9778</td>  <td>True</td> \n",
       "</tr>\n",
       "<tr>\n",
       "   <td>link</td>   <td>video</td> <td>618.2434</td>   <td>-104.662</td>  <td>1341.1487</td>  <td>False</td>\n",
       "</tr>\n",
       "<tr>\n",
       "   <td>photo</td>  <td>video</td> <td>-260.1776</td> <td>-1171.8209</td> <td>651.4657</td>   <td>False</td>\n",
       "</tr>\n",
       "</table>"
      ],
      "text/plain": [
       "<class 'statsmodels.iolib.table.SimpleTable'>"
      ]
     },
     "execution_count": 87,
     "metadata": {},
     "output_type": "execute_result"
    }
   ],
   "source": [
    "test1c = pairwise_tukeyhsd(endog=post_data_2['engagement_fb'],\n",
    "                          groups=post_data_2['type'],\n",
    "                          alpha=0.05)\n",
    "test1c.summary()"
   ]
  },
  {
   "cell_type": "code",
   "execution_count": 88,
   "metadata": {},
   "outputs": [
    {
     "data": {
      "text/html": [
       "<table class=\"simpletable\">\n",
       "<caption>Multiple Comparison of Means - Tukey HSD,FWER=0.05</caption>\n",
       "<tr>\n",
       "  <th>group1</th> <th>group2</th> <th>meandiff</th>   <th>lower</th>     <th>upper</th>  <th>reject</th>\n",
       "</tr>\n",
       "<tr>\n",
       "   <td>link</td>   <td>photo</td> <td>164.4309</td>  <td>-16.108</td>  <td>344.9698</td>  <td>False</td>\n",
       "</tr>\n",
       "<tr>\n",
       "   <td>link</td>   <td>video</td> <td>283.2608</td> <td>106.5479</td>  <td>459.9736</td>  <td>True</td> \n",
       "</tr>\n",
       "<tr>\n",
       "   <td>photo</td>  <td>video</td> <td>118.8299</td> <td>-104.0197</td> <td>341.6794</td>  <td>False</td>\n",
       "</tr>\n",
       "</table>"
      ],
      "text/plain": [
       "<class 'statsmodels.iolib.table.SimpleTable'>"
      ]
     },
     "execution_count": 88,
     "metadata": {},
     "output_type": "execute_result"
    }
   ],
   "source": [
    "test1d = pairwise_tukeyhsd(endog=post_data_2['shares_count_fb'],\n",
    "                          groups=post_data_2['type'],\n",
    "                          alpha=0.05)\n",
    "test1d.summary()"
   ]
  },
  {
   "cell_type": "code",
   "execution_count": 89,
   "metadata": {},
   "outputs": [
    {
     "data": {
      "text/html": [
       "<table class=\"simpletable\">\n",
       "<caption>Multiple Comparison of Means - Tukey HSD,FWER=0.05</caption>\n",
       "<tr>\n",
       "  <th>group1</th> <th>group2</th> <th>meandiff</th>     <th>lower</th>     <th>upper</th>   <th>reject</th>\n",
       "</tr>\n",
       "<tr>\n",
       "   <td>link</td>   <td>photo</td> <td>699.5006</td>   <td>111.4355</td>  <td>1287.5658</td>  <td>True</td> \n",
       "</tr>\n",
       "<tr>\n",
       "   <td>link</td>   <td>video</td> <td>317.2446</td>   <td>-258.3583</td> <td>892.8475</td>   <td>False</td>\n",
       "</tr>\n",
       "<tr>\n",
       "   <td>photo</td>  <td>video</td> <td>-382.2561</td> <td>-1108.1388</td> <td>343.6267</td>   <td>False</td>\n",
       "</tr>\n",
       "</table>"
      ],
      "text/plain": [
       "<class 'statsmodels.iolib.table.SimpleTable'>"
      ]
     },
     "execution_count": 89,
     "metadata": {},
     "output_type": "execute_result"
    }
   ],
   "source": [
    "test1e = pairwise_tukeyhsd(endog=post_data_2['reactions_count_fb'],\n",
    "                          groups=post_data_2['type'],\n",
    "                          alpha=0.05)\n",
    "test1e.summary()"
   ]
  },
  {
   "cell_type": "markdown",
   "metadata": {},
   "source": [
    "In most of the cases, there is significant difference in engagement between link and photo with exception for number of shares and comments. For number of shares, only the difference between link and video is significant. For number of comments, there is no significant difference among groups."
   ]
  },
  {
   "cell_type": "markdown",
   "metadata": {
    "collapsed": true
   },
   "source": [
    "**Regression with for independent variable**\n",
    "\n",
    "OLS, a linear regression model, is conducted to test all hypotheses at the same time. Guidance for the test is found at https://stackoverflow.com/questions/19991445/run-an-ols-regression-with-pandas-data-frame"
   ]
  },
  {
   "cell_type": "code",
   "execution_count": 90,
   "metadata": {},
   "outputs": [
    {
     "name": "stdout",
     "output_type": "stream",
     "text": [
      "                            OLS Regression Results                            \n",
      "==============================================================================\n",
      "Dep. Variable:      comments_count_fb   R-squared:                       0.028\n",
      "Model:                            OLS   Adj. R-squared:                  0.008\n",
      "Method:                 Least Squares   F-statistic:                     1.411\n",
      "Date:                Fri, 30 Mar 2018   Prob (F-statistic):              0.210\n",
      "Time:                        13:30:33   Log-Likelihood:                -1603.1\n",
      "No. Observations:                 300   AIC:                             3220.\n",
      "Df Residuals:                     293   BIC:                             3246.\n",
      "Df Model:                           6                                         \n",
      "Covariance Type:            nonrobust                                         \n",
      "==================================================================================\n",
      "                     coef    std err          t      P>|t|      [0.025      0.975]\n",
      "----------------------------------------------------------------------------------\n",
      "Intercept         34.6821      4.869      7.123      0.000      25.099      44.265\n",
      "type[T.photo]     12.9090      8.843      1.460      0.145      -4.495      30.313\n",
      "type[T.video]     17.3464      8.206      2.114      0.035       1.197      33.496\n",
      "question           6.8906      8.247      0.836      0.404      -9.341      23.122\n",
      "call_in_action    -0.7402      7.181     -0.103      0.918     -14.873      13.393\n",
      "sentiment          1.3002      1.513      0.860      0.391      -1.677       4.277\n",
      "word_count         0.0443      0.100      0.441      0.659      -0.153       0.242\n",
      "==============================================================================\n",
      "Omnibus:                      184.502   Durbin-Watson:                   1.841\n",
      "Prob(Omnibus):                  0.000   Jarque-Bera (JB):             1111.972\n",
      "Skew:                           2.626   Prob(JB):                    3.45e-242\n",
      "Kurtosis:                      10.835   Cond. No.                         174.\n",
      "==============================================================================\n",
      "\n",
      "Warnings:\n",
      "[1] Standard Errors assume that the covariance matrix of the errors is correctly specified.\n"
     ]
    }
   ],
   "source": [
    "result = ols(formula='comments_count_fb ~ type+question+call_in_action+sentiment+word_count', data=post_data_2).fit()\n",
    "print (result.summary())"
   ]
  },
  {
   "cell_type": "markdown",
   "metadata": {},
   "source": [
    "No independent variable has significant effect on number of comments, except for video-type."
   ]
  },
  {
   "cell_type": "code",
   "execution_count": 91,
   "metadata": {},
   "outputs": [
    {
     "data": {
      "text/plain": [
       "<matplotlib.axes._subplots.AxesSubplot at 0x175a0e2b7b8>"
      ]
     },
     "execution_count": 91,
     "metadata": {},
     "output_type": "execute_result"
    },
    {
     "data": {
      "image/png": "[encoded data removed]",
      "text/plain": [
       "<matplotlib.figure.Figure at 0x175a0e20cf8>"
      ]
     },
     "metadata": {},
     "output_type": "display_data"
    }
   ],
   "source": [
    "sns.boxplot(x=\"type\", y=\"comments_count_fb\", data=post_data_2)"
   ]
  },
  {
   "cell_type": "code",
   "execution_count": 92,
   "metadata": {},
   "outputs": [
    {
     "name": "stdout",
     "output_type": "stream",
     "text": [
      "                            OLS Regression Results                            \n",
      "==============================================================================\n",
      "Dep. Variable:        shares_count_fb   R-squared:                       0.057\n",
      "Model:                            OLS   Adj. R-squared:                  0.038\n",
      "Method:                 Least Squares   F-statistic:                     2.944\n",
      "Date:                Fri, 30 Mar 2018   Prob (F-statistic):            0.00835\n",
      "Time:                        13:30:37   Log-Likelihood:                -2283.8\n",
      "No. Observations:                 300   AIC:                             4582.\n",
      "Df Residuals:                     293   BIC:                             4608.\n",
      "Df Model:                           6                                         \n",
      "Covariance Type:            nonrobust                                         \n",
      "==================================================================================\n",
      "                     coef    std err          t      P>|t|      [0.025      0.975]\n",
      "----------------------------------------------------------------------------------\n",
      "Intercept        220.6395     47.082      4.686      0.000     127.978     313.301\n",
      "type[T.photo]    172.4629     85.507      2.017      0.045       4.177     340.749\n",
      "type[T.video]    284.4817     79.346      3.585      0.000     128.321     440.642\n",
      "question         -47.6738     79.747     -0.598      0.550    -204.623     109.276\n",
      "call_in_action     5.0958     69.437      0.073      0.942    -131.563     141.754\n",
      "sentiment         15.9932     14.625      1.094      0.275     -12.791      44.777\n",
      "word_count        -0.1522      0.971     -0.157      0.876      -2.063       1.759\n",
      "==============================================================================\n",
      "Omnibus:                      347.254   Durbin-Watson:                   1.894\n",
      "Prob(Omnibus):                  0.000   Jarque-Bera (JB):            18515.260\n",
      "Skew:                           5.082   Prob(JB):                         0.00\n",
      "Kurtosis:                      40.120   Cond. No.                         174.\n",
      "==============================================================================\n",
      "\n",
      "Warnings:\n",
      "[1] Standard Errors assume that the covariance matrix of the errors is correctly specified.\n"
     ]
    }
   ],
   "source": [
    "test1= ols('shares_count_fb ~ type+question+call_in_action+sentiment+word_count', data=post_data_2).fit()\n",
    "print(test1.summary())"
   ]
  },
  {
   "cell_type": "markdown",
   "metadata": {},
   "source": [
    "Only post type (photo and video) has significant effect on the number of shares."
   ]
  },
  {
   "cell_type": "code",
   "execution_count": 93,
   "metadata": {},
   "outputs": [
    {
     "data": {
      "text/plain": [
       "<matplotlib.axes._subplots.AxesSubplot at 0x175a0ec79b0>"
      ]
     },
     "execution_count": 93,
     "metadata": {},
     "output_type": "execute_result"
    },
    {
     "data": {
      "image/png": "[encoded data removed]",
      "text/plain": [
       "<matplotlib.figure.Figure at 0x175a0e35cc0>"
      ]
     },
     "metadata": {},
     "output_type": "display_data"
    }
   ],
   "source": [
    "sns.swarmplot(x=\"type\", y=\"shares_count_fb\", data=post_data_2)"
   ]
  },
  {
   "cell_type": "code",
   "execution_count": 94,
   "metadata": {},
   "outputs": [
    {
     "name": "stdout",
     "output_type": "stream",
     "text": [
      "                            OLS Regression Results                            \n",
      "==============================================================================\n",
      "Dep. Variable:         likes_count_fb   R-squared:                       0.114\n",
      "Model:                            OLS   Adj. R-squared:                  0.095\n",
      "Method:                 Least Squares   F-statistic:                     6.258\n",
      "Date:                Fri, 30 Mar 2018   Prob (F-statistic):           3.34e-06\n",
      "Time:                        13:30:55   Log-Likelihood:                -2547.2\n",
      "No. Observations:                 300   AIC:                             5108.\n",
      "Df Residuals:                     293   BIC:                             5134.\n",
      "Df Model:                           6                                         \n",
      "Covariance Type:            nonrobust                                         \n",
      "==================================================================================\n",
      "                     coef    std err          t      P>|t|      [0.025      0.975]\n",
      "----------------------------------------------------------------------------------\n",
      "Intercept        977.2518    113.258      8.629      0.000     754.350    1200.154\n",
      "type[T.photo]    658.0567    205.693      3.199      0.002     253.234    1062.880\n",
      "type[T.video]    289.0298    190.872      1.514      0.131     -86.624     664.684\n",
      "question         -98.6596    191.836     -0.514      0.607    -476.211     278.892\n",
      "call_in_action  -106.6195    167.035     -0.638      0.524    -435.360     222.121\n",
      "sentiment        159.5706     35.182      4.536      0.000      90.328     228.813\n",
      "word_count         1.9347      2.336      0.828      0.408      -2.662       6.532\n",
      "==============================================================================\n",
      "Omnibus:                      205.309   Durbin-Watson:                   1.737\n",
      "Prob(Omnibus):                  0.000   Jarque-Bera (JB):             2024.004\n",
      "Skew:                           2.763   Prob(JB):                         0.00\n",
      "Kurtosis:                      14.462   Cond. No.                         174.\n",
      "==============================================================================\n",
      "\n",
      "Warnings:\n",
      "[1] Standard Errors assume that the covariance matrix of the errors is correctly specified.\n"
     ]
    }
   ],
   "source": [
    "test2= ols('likes_count_fb ~ type+question+call_in_action+sentiment+word_count', data=post_data_2).fit()\n",
    "print(test2.summary())"
   ]
  },
  {
   "cell_type": "markdown",
   "metadata": {},
   "source": [
    "Except for post type (video), only sentiment of post can effect number of likes"
   ]
  },
  {
   "cell_type": "code",
   "execution_count": 95,
   "metadata": {},
   "outputs": [
    {
     "data": {
      "text/plain": [
       "<seaborn.axisgrid.FacetGrid at 0x175a0f17668>"
      ]
     },
     "execution_count": 95,
     "metadata": {},
     "output_type": "execute_result"
    },
    {
     "data": {
      "image/png": "[encoded data removed]",
      "text/plain": [
       "<matplotlib.figure.Figure at 0x175a0f172e8>"
      ]
     },
     "metadata": {},
     "output_type": "display_data"
    }
   ],
   "source": [
    "sns.lmplot(x=\"sentiment\", y=\"likes_count_fb\", hue='type',truncate=True, size=5, data=post_data_2)"
   ]
  },
  {
   "cell_type": "code",
   "execution_count": 96,
   "metadata": {},
   "outputs": [
    {
     "name": "stdout",
     "output_type": "stream",
     "text": [
      "                            OLS Regression Results                            \n",
      "==============================================================================\n",
      "Dep. Variable:     reactions_count_fb   R-squared:                       0.074\n",
      "Model:                            OLS   Adj. R-squared:                  0.055\n",
      "Method:                 Least Squares   F-statistic:                     3.892\n",
      "Date:                Fri, 30 Mar 2018   Prob (F-statistic):           0.000934\n",
      "Time:                        13:31:23   Log-Likelihood:                -2631.6\n",
      "No. Observations:                 300   AIC:                             5277.\n",
      "Df Residuals:                     293   BIC:                             5303.\n",
      "Df Model:                           6                                         \n",
      "Covariance Type:            nonrobust                                         \n",
      "==================================================================================\n",
      "                     coef    std err          t      P>|t|      [0.025      0.975]\n",
      "----------------------------------------------------------------------------------\n",
      "Intercept       1283.4891    150.086      8.552      0.000     988.105    1578.873\n",
      "type[T.photo]    606.2307    272.579      2.224      0.027      69.770    1142.691\n",
      "type[T.video]    245.9203    252.939      0.972      0.332    -251.887     743.727\n",
      "question        -127.7418    254.216     -0.502      0.616    -628.063     372.580\n",
      "call_in_action   -85.6542    221.350     -0.387      0.699    -521.292     349.984\n",
      "sentiment        170.2844     46.623      3.652      0.000      78.527     262.042\n",
      "word_count         3.3966      3.095      1.097      0.273      -2.695       9.488\n",
      "==============================================================================\n",
      "Omnibus:                      210.155   Durbin-Watson:                   1.709\n",
      "Prob(Omnibus):                  0.000   Jarque-Bera (JB):             2091.304\n",
      "Skew:                           2.852   Prob(JB):                         0.00\n",
      "Kurtosis:                      14.609   Cond. No.                         174.\n",
      "==============================================================================\n",
      "\n",
      "Warnings:\n",
      "[1] Standard Errors assume that the covariance matrix of the errors is correctly specified.\n"
     ]
    }
   ],
   "source": [
    "test3= ols('reactions_count_fb ~ type+question+call_in_action+sentiment+word_count', data=post_data_2).fit()\n",
    "print(test3.summary())"
   ]
  },
  {
   "cell_type": "markdown",
   "metadata": {},
   "source": [
    "Againt, post type (video) and sentiment of post can affect number of reactions"
   ]
  },
  {
   "cell_type": "code",
   "execution_count": 97,
   "metadata": {},
   "outputs": [
    {
     "data": {
      "text/plain": [
       "<seaborn.axisgrid.FacetGrid at 0x175a0f0d5f8>"
      ]
     },
     "execution_count": 97,
     "metadata": {},
     "output_type": "execute_result"
    },
    {
     "data": {
      "image/png": "[encoded data removed]",
      "text/plain": [
       "<matplotlib.figure.Figure at 0x175a0ebc1d0>"
      ]
     },
     "metadata": {},
     "output_type": "display_data"
    }
   ],
   "source": [
    "sns.lmplot(x=\"sentiment\", y=\"reactions_count_fb\", hue='type', data=post_data_2)"
   ]
  },
  {
   "cell_type": "code",
   "execution_count": 98,
   "metadata": {},
   "outputs": [
    {
     "name": "stdout",
     "output_type": "stream",
     "text": [
      "                            OLS Regression Results                            \n",
      "==============================================================================\n",
      "Dep. Variable:          engagement_fb   R-squared:                       0.068\n",
      "Model:                            OLS   Adj. R-squared:                  0.049\n",
      "Method:                 Least Squares   F-statistic:                     3.551\n",
      "Date:                Fri, 30 Mar 2018   Prob (F-statistic):            0.00207\n",
      "Time:                        13:31:51   Log-Likelihood:                -2701.7\n",
      "No. Observations:                 300   AIC:                             5417.\n",
      "Df Residuals:                     293   BIC:                             5443.\n",
      "Df Model:                           6                                         \n",
      "Covariance Type:            nonrobust                                         \n",
      "==================================================================================\n",
      "                     coef    std err          t      P>|t|      [0.025      0.975]\n",
      "----------------------------------------------------------------------------------\n",
      "Intercept       1538.8107    189.589      8.117      0.000    1165.681    1911.940\n",
      "type[T.photo]    791.6027    344.322      2.299      0.022     113.945    1469.260\n",
      "type[T.video]    547.7484    319.512      1.714      0.088     -81.082    1176.579\n",
      "question        -168.5249    321.126     -0.525      0.600    -800.532     463.482\n",
      "call_in_action   -81.2985    279.610     -0.291      0.771    -631.597     469.000\n",
      "sentiment        187.5779     58.894      3.185      0.002      71.669     303.487\n",
      "word_count         3.2887      3.910      0.841      0.401      -4.406      10.984\n",
      "==============================================================================\n",
      "Omnibus:                      210.224   Durbin-Watson:                   1.746\n",
      "Prob(Omnibus):                  0.000   Jarque-Bera (JB):             1970.197\n",
      "Skew:                           2.885   Prob(JB):                         0.00\n",
      "Kurtosis:                      14.150   Cond. No.                         174.\n",
      "==============================================================================\n",
      "\n",
      "Warnings:\n",
      "[1] Standard Errors assume that the covariance matrix of the errors is correctly specified.\n"
     ]
    }
   ],
   "source": [
    "test4= ols('engagement_fb ~ type+question+call_in_action+sentiment+word_count', data=post_data_2).fit()\n",
    "print(test4.summary())"
   ]
  },
  {
   "cell_type": "markdown",
   "metadata": {},
   "source": [
    "Post type (photo) and sentiment have significant effect on engagement."
   ]
  },
  {
   "cell_type": "code",
   "execution_count": 99,
   "metadata": {},
   "outputs": [
    {
     "data": {
      "text/plain": [
       "<seaborn.axisgrid.FacetGrid at 0x175a0fa5c50>"
      ]
     },
     "execution_count": 99,
     "metadata": {},
     "output_type": "execute_result"
    },
    {
     "data": {
      "image/png": "[encoded data removed]",
      "text/plain": [
       "<matplotlib.figure.Figure at 0x175a103c828>"
      ]
     },
     "metadata": {},
     "output_type": "display_data"
    }
   ],
   "source": [
    "sns.lmplot(x=\"sentiment\", y=\"engagement_fb\", hue='type', data=post_data_2,palette='Set2')"
   ]
  },
  {
   "cell_type": "code",
   "execution_count": 100,
   "metadata": {},
   "outputs": [
    {
     "name": "stdout",
     "output_type": "stream",
     "text": [
      "                            OLS Regression Results                            \n",
      "==============================================================================\n",
      "Dep. Variable:      comment_sentiment   R-squared:                       0.120\n",
      "Model:                            OLS   Adj. R-squared:                  0.102\n",
      "Method:                 Least Squares   F-statistic:                     6.630\n",
      "Date:                Fri, 30 Mar 2018   Prob (F-statistic):           1.37e-06\n",
      "Time:                        13:32:09   Log-Likelihood:                -329.08\n",
      "No. Observations:                 300   AIC:                             672.2\n",
      "Df Residuals:                     293   BIC:                             698.1\n",
      "Df Model:                           6                                         \n",
      "Covariance Type:            nonrobust                                         \n",
      "==================================================================================\n",
      "                     coef    std err          t      P>|t|      [0.025      0.975]\n",
      "----------------------------------------------------------------------------------\n",
      "Intercept          0.3283      0.070      4.712      0.000       0.191       0.465\n",
      "type[T.photo]      0.1768      0.127      1.397      0.163      -0.072       0.426\n",
      "type[T.video]      0.0420      0.117      0.358      0.721      -0.189       0.273\n",
      "question           0.0142      0.118      0.120      0.905      -0.218       0.246\n",
      "call_in_action    -0.1758      0.103     -1.711      0.088      -0.378       0.026\n",
      "sentiment          0.1178      0.022      5.444      0.000       0.075       0.160\n",
      "word_count         0.0026      0.001      1.807      0.072      -0.000       0.005\n",
      "==============================================================================\n",
      "Omnibus:                        3.131   Durbin-Watson:                   1.935\n",
      "Prob(Omnibus):                  0.209   Jarque-Bera (JB):                3.543\n",
      "Skew:                          -0.013   Prob(JB):                        0.170\n",
      "Kurtosis:                       3.532   Cond. No.                         174.\n",
      "==============================================================================\n",
      "\n",
      "Warnings:\n",
      "[1] Standard Errors assume that the covariance matrix of the errors is correctly specified.\n"
     ]
    }
   ],
   "source": [
    "test5= ols('comment_sentiment ~ type+question+call_in_action+sentiment+word_count', data=post_data_2).fit()\n",
    "print(test5.summary())"
   ]
  },
  {
   "cell_type": "markdown",
   "metadata": {},
   "source": [
    "Only post sentiment can significantly affect comment sentiment."
   ]
  },
  {
   "cell_type": "code",
   "execution_count": 101,
   "metadata": {},
   "outputs": [
    {
     "data": {
      "text/plain": [
       "<matplotlib.axes._subplots.AxesSubplot at 0x175a10c1278>"
      ]
     },
     "execution_count": 101,
     "metadata": {},
     "output_type": "execute_result"
    },
    {
     "data": {
      "image/png": "[encoded data removed]",
      "text/plain": [
       "<matplotlib.figure.Figure at 0x175a100eda0>"
      ]
     },
     "metadata": {},
     "output_type": "display_data"
    }
   ],
   "source": [
    "sns.regplot(x='sentiment',y='comment_sentiment',data=post_data_2)"
   ]
  },
  {
   "cell_type": "code",
   "execution_count": 102,
   "metadata": {},
   "outputs": [
    {
     "name": "stdout",
     "output_type": "stream",
     "text": [
      "                            OLS Regression Results                            \n",
      "==============================================================================\n",
      "Dep. Variable:              rea_senti   R-squared:                       0.156\n",
      "Model:                            OLS   Adj. R-squared:                  0.139\n",
      "Method:                 Least Squares   F-statistic:                     9.015\n",
      "Date:                Fri, 30 Mar 2018   Prob (F-statistic):           4.76e-09\n",
      "Time:                        13:32:15   Log-Likelihood:                -2283.3\n",
      "No. Observations:                 300   AIC:                             4581.\n",
      "Df Residuals:                     293   BIC:                             4607.\n",
      "Df Model:                           6                                         \n",
      "Covariance Type:            nonrobust                                         \n",
      "==================================================================================\n",
      "                     coef    std err          t      P>|t|      [0.025      0.975]\n",
      "----------------------------------------------------------------------------------\n",
      "Intercept        -43.4929     47.001     -0.925      0.356    -135.995      49.009\n",
      "type[T.photo]    335.2183     85.360      3.927      0.000     167.222     503.215\n",
      "type[T.video]    286.3764     79.210      3.615      0.000     130.485     442.268\n",
      "question          -9.2946     79.610     -0.117      0.907    -165.974     147.385\n",
      "call_in_action  -221.5115     69.317     -3.196      0.002    -357.935     -85.088\n",
      "sentiment         56.5409     14.600      3.873      0.000      27.806      85.276\n",
      "word_count         0.6604      0.969      0.681      0.496      -1.247       2.568\n",
      "==============================================================================\n",
      "Omnibus:                      149.687   Durbin-Watson:                   1.834\n",
      "Prob(Omnibus):                  0.000   Jarque-Bera (JB):             2279.583\n",
      "Skew:                          -1.632   Prob(JB):                         0.00\n",
      "Kurtosis:                      16.104   Cond. No.                         174.\n",
      "==============================================================================\n",
      "\n",
      "Warnings:\n",
      "[1] Standard Errors assume that the covariance matrix of the errors is correctly specified.\n"
     ]
    }
   ],
   "source": [
    "test6= ols('rea_senti ~ type+question+call_in_action+sentiment+word_count', data=post_data_2).fit()\n",
    "print(test6.summary())"
   ]
  },
  {
   "cell_type": "markdown",
   "metadata": {},
   "source": [
    "sentiment of reaction is significantly correlated to post type (photo and video), call-in-action content and sentiment"
   ]
  },
  {
   "cell_type": "code",
   "execution_count": 103,
   "metadata": {},
   "outputs": [
    {
     "data": {
      "text/plain": [
       "<seaborn.axisgrid.FacetGrid at 0x175a0e2b780>"
      ]
     },
     "execution_count": 103,
     "metadata": {},
     "output_type": "execute_result"
    },
    {
     "data": {
      "image/png": "[encoded data removed]",
      "text/plain": [
       "<matplotlib.figure.Figure at 0x175a1128278>"
      ]
     },
     "metadata": {},
     "output_type": "display_data"
    }
   ],
   "source": [
    "sns.lmplot(x=\"sentiment\", y=\"rea_senti\", hue='call_in_action', data=post_data_2, palette='Set1')"
   ]
  },
  {
   "cell_type": "markdown",
   "metadata": {
    "collapsed": true
   },
   "source": [
    "## 5. Summary of the findings and implications to the communication-related challenge\n",
    "\n",
    "From above data analysis, two important results are obtained. Firstly, two factors that have the most significant effect on engagement are type and sentiment of posts. They have effects on most engagement measurement. For post type, photo is the most engaging type while video is the least. That visual factor is present in all type, no matter it is link or video might be the reason why the difference among post type groups is not strong. It is also noteworthy that sentiment of post has significant effect on sentiment of comment and reactions by audience. \n",
    "\n",
    "Secondly, no independent variable has significant effect on the number of comments. The result can be partly explained by the fact that the number of comments is much smaller than numbers of other engagement metrics. Considering comments as an active type of engagement, this poses the problem of finding factors that can affect comments.\n",
    "\n",
    "Another finding is, against the hypotheses, question inclusion or call-in-action content seem to have negative effect on most engagement metrics, though not significantly.  \n",
    "\n",
    "From this observation, consideration of post type and sentiment should be conducted for engagement promotion.\n",
    "\n",
    "# II. Limitations of your analysis, and suggestions for further investigations\n",
    "\n",
    "The analysis is not out of limitations. Firstly, like other quantitative analysis, this data analysis plan runs the risk of losing in-depth information through generalization of materials. Content-wise variables defined by simplified techniques cannot present all aspect of the content, which should be improved by a more thorough research plan including more human interaction. \n",
    "\n",
    "Besides, not every aspect of the issue is dealt with in this analysis. Factors such as publishing time or graphic characteristics may also have effect on engagement but were not studied. Similarly, the analysis only tests for linear relationship between independent variables and dependent variables, not non-linear one. Further analysis on other factors with other method of analysis are necessary to fully study Facebook engagement.\n",
    "\n",
    "Lastly, it is easier to do descriptive analysis with Facebook data as in this analysis than finding reasons behind audience behaviours, therefore further examination should be paid to the exploration of motivation for engagement (Mahrt & Scharkow, 2013, p.23). \n",
    "\n",
    "\n",
    "\n",
    "# III. A discussion about ethical, privacy and normative considerations\n",
    "\n",
    "The use of data from the Facebook page of World Wildlife Fund in this research does not pose an ethical problem as severe as privacy invasion because the organization uses data from its own social media account. Regarding analysis of engagement made by audience, it can be argued that as the activities studied are made on a public Facebook page rather than personal ones, they indeed exist in public area. Still, the ethical issue with this type of research is equivalent to that applies to public observation research, both lack informed consent from unknowing participants. However, as the researched is conducted unknowingly, this plan could study the absolute behaviours of social media users, examining what people really do rather than what they report doing (Rieder, 2013, p.347). This excludes experimental effects that may distort behaviour due to human interaction (Mahrt & Scharkow, 2013, p.24).\n",
    "\n",
    "Finally, one normative issue to be concerned is that Facebook engagement does not represent real-life engagement and it is difficult to define the connection between the two. Speaking from the viewpoint that conservationist communication emphasises behavioural change, social media engagement that does not translate into reality is of little significance to NGO engagement.  \n"
   ]
  },
  {
   "cell_type": "markdown",
   "metadata": {
    "collapsed": true
   },
   "source": [
    "## References\n",
    "\n",
    "Cho, M., Schweickart, T., & Haase, A. (2014). Public Engagement with Nonprofit Organizations on Facebook. Public Relations Review, 40, 565-567.\n",
    "\n",
    "Dosemagen, S. (2016, January 28). Huffington Post. Retrieved from Social Media and Saving the Environment: Clicktivism or Real Change?: https://www.huffingtonpost.com/shannon-dosemagen-/social-media-and-saving-t_b_9100362.html \n",
    "\n",
    "Jackson, D. (2017, May 22). Know Your Limit: The Ideal Length of Every Social Media Post. Retrieved from Spout Social: https://sproutsocial.com/insights/social-media-character-counter/\n",
    "\n",
    "Mahrt, M., & Scharkow, M. (2013). The Value of Big Data in Digital Media Research. Journal of Broadcasting and Electronic Media, 57(1), 20–33. https://doi.org/10.1080/08838151.2012.761700\n",
    "\n",
    "Reinard, J. C. (2006). Chapter 2: Collecting Data on Variables. In J. C. Reinard, Communication Research Statistics (pp. 17-41). Sage.\n",
    "\n",
    "Rieder, B. (2013). Studying Facebook via data extraction. Proceedings of the 5th Annual ACM Web Science Conference on - WebSci ’13, 346–355. https://doi.org/10.1145/2464464.2464475\n",
    "\n",
    "Román Núñez, Y. C., & Cuesta Moreno, O. J. (2016). Communication and environmental conservation: Advances and challenges in Latin America. Revista Latina de Comunicacion Social, 71, 15–39. https://doi.org/10.4185/RLCS-2016-1082en\n",
    "\n",
    "Schwartz, C. (2017). 2017 Social Media Industry Benchmark Report. Retrieved from https://www.rivaliq.com/blog/2017-social-media-industry-benchmark-report/\n",
    "\n"
   ]
  },
  {
   "cell_type": "code",
   "execution_count": null,
   "metadata": {
    "collapsed": true
   },
   "outputs": [],
   "source": []
  }
 ],
 "metadata": {
  "kernelspec": {
   "display_name": "Python 3",
   "language": "python",
   "name": "python3"
  },
  "language_info": {
   "codemirror_mode": {
    "name": "ipython",
    "version": 3
   },
   "file_extension": ".py",
   "mimetype": "text/x-python",
   "name": "python",
   "nbconvert_exporter": "python",
   "pygments_lexer": "ipython3",
   "version": "3.6.3"
  }
 },
 "nbformat": 4,
 "nbformat_minor": 2
}
